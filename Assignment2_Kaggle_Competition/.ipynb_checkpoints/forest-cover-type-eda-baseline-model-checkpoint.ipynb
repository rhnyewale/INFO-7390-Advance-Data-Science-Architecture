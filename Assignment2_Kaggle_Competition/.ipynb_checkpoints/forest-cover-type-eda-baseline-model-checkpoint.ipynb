{
 "cells": [
  {
   "cell_type": "markdown",
   "metadata": {
    "_uuid": "f8d91b1fd84cef51309a30f6ee042524e49f78e8"
   },
   "source": [
    "![](https://i.pinimg.com/originals/4a/22/04/4a2204ad07714695f6f523d7840afbe9.jpg)"
   ]
  },
  {
   "cell_type": "code",
   "execution_count": null,
   "metadata": {
    "_cell_guid": "b1076dfc-b9ad-4769-8c92-a6c4dae69d19",
    "_uuid": "8f2839f25d086af736a60e9eeb907d3b93b6e0e5",
    "collapsed": true
   },
   "outputs": [],
   "source": [
    "import numpy as np # linear algebra\n",
    "import pandas as pd # data processing, CSV file I/O (e.g. pd.read_csv)\n",
    "import plotly.graph_objs as go\n",
    "from plotly.offline import init_notebook_mode, iplot\n",
    "init_notebook_mode(connected=True)\n",
    "from collections import Counter\n",
    "import matplotlib.pyplot as plt\n",
    "#import seaborn as sns\n",
    "%matplotlib inline\n",
    "import seaborn as sns # for making plots with seaborn\n",
    "color = sns.color_palette()\n",
    "from pandas.tools.plotting import parallel_coordinates\n",
    "from sklearn.decomposition import PCA\n",
    "from sklearn import ensemble\n",
    "from sklearn.ensemble import RandomForestClassifier"
   ]
  },
  {
   "cell_type": "code",
   "execution_count": null,
   "metadata": {
    "_cell_guid": "79c7e3d0-c299-4dcb-8224-4455121ee9b0",
    "_uuid": "d629ff2d2480ee46fbb7e2d37f6b5fab8052498a",
    "collapsed": true
   },
   "outputs": [],
   "source": [
    "train = pd.read_csv('../input/train.csv')\n",
    "test = pd.read_csv('../input/test.csv')"
   ]
  },
  {
   "cell_type": "code",
   "execution_count": null,
   "metadata": {
    "_uuid": "1a4fa6691a5c2bc3610f9f59f0f2d4c4741aeaad",
    "collapsed": true
   },
   "outputs": [],
   "source": [
    "print('size of train data',train.shape)\n",
    "print('size of test data',test.shape)"
   ]
  },
  {
   "cell_type": "code",
   "execution_count": null,
   "metadata": {
    "_uuid": "69059eb0a86e6e6a3dd21fe7a409bd205ee76ff2",
    "collapsed": true
   },
   "outputs": [],
   "source": [
    "train.head()"
   ]
  },
  {
   "cell_type": "code",
   "execution_count": null,
   "metadata": {
    "_uuid": "03a6835bd61fec235b9c5bc3cf1bb130db9e551e",
    "collapsed": true
   },
   "outputs": [],
   "source": [
    "train.info()"
   ]
  },
  {
   "cell_type": "code",
   "execution_count": null,
   "metadata": {
    "_uuid": "537309b5cce183b16ad6ff28d61dce05bdfa989d",
    "collapsed": true
   },
   "outputs": [],
   "source": [
    "plt.figure(figsize=(12,5))\n",
    "plt.title(\"Distribution of forest categories(Target Variable)\")\n",
    "ax = sns.distplot(train[\"Cover_Type\"])"
   ]
  },
  {
   "cell_type": "code",
   "execution_count": null,
   "metadata": {
    "_kg_hide-input": false,
    "_uuid": "47c119d65c848e25494900e12d90521d293c0976",
    "collapsed": true
   },
   "outputs": [],
   "source": [
    "sns.FacetGrid(train, hue=\"Cover_Type\", size=10).map(plt.scatter, \"Horizontal_Distance_To_Hydrology\", \"Vertical_Distance_To_Hydrology\").add_legend()"
   ]
  },
  {
   "cell_type": "markdown",
   "metadata": {
    "_uuid": "0bb5a6c9528f71663284f3d9ec15f3d2777cb327"
   },
   "source": [
    "## Parallel plots"
   ]
  },
  {
   "cell_type": "markdown",
   "metadata": {
    "_uuid": "25bbff12aca575283d705a5c3bd0f076da3e9c3f"
   },
   "source": [
    "A hillshade is a grayscale 3D representation of the surface, with the sun's relative position taken into account for shading the image. This function uses the altitude and azimuth properties to specify the sun's position.\n",
    "\n",
    "* **Hillshade_9am (0 to 255 index)** - Hillshade index at 9am, summer solstice\n",
    "* **Hillshade_Noon (0 to 255 index)** - Hillshade index at noon, summer solstice\n",
    "* **Hillshade_3pm (0 to 255 index) **- Hillshade index at 3pm, summer solstice"
   ]
  },
  {
   "cell_type": "code",
   "execution_count": null,
   "metadata": {
    "_kg_hide-input": true,
    "_uuid": "fd79403d0e0a30622e92fb27dcf82a8e07d0bbeb",
    "collapsed": true
   },
   "outputs": [],
   "source": [
    "temp = train[['Hillshade_9am','Hillshade_Noon','Hillshade_3pm','Cover_Type']]\n",
    "plt.figure(figsize=(15,11))\n",
    "parallel_coordinates(temp,'Cover_Type', colormap=plt.get_cmap(\"Set1\"))\n",
    "plt.title(\"parallel plots of Hillshade with forest categories\")\n",
    "plt.xlabel(\"Hillshade\")\n",
    "plt.show()"
   ]
  },
  {
   "cell_type": "markdown",
   "metadata": {
    "_uuid": "d95f417817bdb3855e4b2fe64e0f7109eed9e69b"
   },
   "source": [
    "## Principal component analysis (PCA)"
   ]
  },
  {
   "cell_type": "markdown",
   "metadata": {
    "_uuid": "09f8edccad887e9b98f3216a9e56bda28690910f"
   },
   "source": [
    "Color represent target variable(Cover_type)"
   ]
  },
  {
   "cell_type": "code",
   "execution_count": null,
   "metadata": {
    "_kg_hide-input": true,
    "_uuid": "e2727ed8a4b13247498f91372e180ad804716a64",
    "collapsed": true
   },
   "outputs": [],
   "source": [
    "pca = PCA(n_components=3) # for simplicity i choose 3\n",
    "pca_results = pca.fit_transform(train.drop([\"Cover_Type\"], axis=1))\n",
    "cmap = sns.cubehelix_palette(as_cmap=True)\n",
    "tp, ax = plt.subplots(figsize=(20,15))\n",
    "temp = ax.scatter(pca_results[:,0], pca_results[:,1], c=train.Cover_Type, s=50, cmap=cmap)\n",
    "tp.colorbar(temp)\n",
    "plt.show()"
   ]
  },
  {
   "cell_type": "markdown",
   "metadata": {
    "_uuid": "29fc2a9dd8e57ae69346c151ea6e40e8a31964a9"
   },
   "source": [
    "# Feature Engineering"
   ]
  },
  {
   "cell_type": "markdown",
   "metadata": {
    "_uuid": "7b6008be5bbc69661cc143eb0f39c3aad6326e02"
   },
   "source": [
    "* **Features engeneering** :\n",
    "    * **Linear combination** :\n",
    "           * Elevation, Vertical dist. to Hydrology\n",
    "           * Horizontal dist. to Hydrology, Horizontal dist. to Fire Points \n",
    "           * Horizontal dist. to Hydrology, Horizontal dist. to Roadways \n",
    "           * Horizontal dist. to Fire Points, Horizontal dist. to Roadways \n",
    "    * **Euclidean distance** : \n",
    "            * Horizontal dist. to Hydrology, Vertical dist. to Hydrology\n",
    "            * euclidean distance = \\sqrt{(verticaldistance)^2 + (horizontaldistance)^2}\\] \n",
    "    * **Distance to Amenities** :\n",
    "         * As we know distances to amenities like Water, Fire and Roadways played a key role in determining cover type \n",
    "           * Mean distance to Amenities \n",
    "           * Mean Distance to Fire and Water "
   ]
  },
  {
   "cell_type": "code",
   "execution_count": null,
   "metadata": {
    "_uuid": "7f842b0d5ef9fada987e27150deae3bf52d221dd",
    "collapsed": true
   },
   "outputs": [],
   "source": [
    "####################### Train data #############################################\n",
    "train['HF1'] = train['Horizontal_Distance_To_Hydrology']+train['Horizontal_Distance_To_Fire_Points']\n",
    "train['HF2'] = abs(train['Horizontal_Distance_To_Hydrology']-train['Horizontal_Distance_To_Fire_Points'])\n",
    "train['HR1'] = abs(train['Horizontal_Distance_To_Hydrology']+train['Horizontal_Distance_To_Roadways'])\n",
    "train['HR2'] = abs(train['Horizontal_Distance_To_Hydrology']-train['Horizontal_Distance_To_Roadways'])\n",
    "train['FR1'] = abs(train['Horizontal_Distance_To_Fire_Points']+train['Horizontal_Distance_To_Roadways'])\n",
    "train['FR2'] = abs(train['Horizontal_Distance_To_Fire_Points']-train['Horizontal_Distance_To_Roadways'])\n",
    "train['ele_vert'] = train.Elevation-train.Vertical_Distance_To_Hydrology\n",
    "\n",
    "train['slope_hyd'] = (train['Horizontal_Distance_To_Hydrology']**2+train['Vertical_Distance_To_Hydrology']**2)**0.5\n",
    "train.slope_hyd=train.slope_hyd.map(lambda x: 0 if np.isinf(x) else x) # remove infinite value if any\n",
    "\n",
    "#Mean distance to Amenities \n",
    "train['Mean_Amenities']=(train.Horizontal_Distance_To_Fire_Points + train.Horizontal_Distance_To_Hydrology + train.Horizontal_Distance_To_Roadways) / 3 \n",
    "#Mean Distance to Fire and Water \n",
    "train['Mean_Fire_Hyd']=(train.Horizontal_Distance_To_Fire_Points + train.Horizontal_Distance_To_Hydrology) / 2 \n",
    "\n",
    "####################### Test data #############################################\n",
    "test['HF1'] = test['Horizontal_Distance_To_Hydrology']+test['Horizontal_Distance_To_Fire_Points']\n",
    "test['HF2'] = abs(test['Horizontal_Distance_To_Hydrology']-test['Horizontal_Distance_To_Fire_Points'])\n",
    "test['HR1'] = abs(test['Horizontal_Distance_To_Hydrology']+test['Horizontal_Distance_To_Roadways'])\n",
    "test['HR2'] = abs(test['Horizontal_Distance_To_Hydrology']-test['Horizontal_Distance_To_Roadways'])\n",
    "test['FR1'] = abs(test['Horizontal_Distance_To_Fire_Points']+test['Horizontal_Distance_To_Roadways'])\n",
    "test['FR2'] = abs(test['Horizontal_Distance_To_Fire_Points']-test['Horizontal_Distance_To_Roadways'])\n",
    "test['ele_vert'] = test.Elevation-test.Vertical_Distance_To_Hydrology\n",
    "\n",
    "test['slope_hyd'] = (test['Horizontal_Distance_To_Hydrology']**2+test['Vertical_Distance_To_Hydrology']**2)**0.5\n",
    "test.slope_hyd=test.slope_hyd.map(lambda x: 0 if np.isinf(x) else x) # remove infinite value if any\n",
    "\n",
    "#Mean distance to Amenities \n",
    "test['Mean_Amenities']=(test.Horizontal_Distance_To_Fire_Points + test.Horizontal_Distance_To_Hydrology + test.Horizontal_Distance_To_Roadways) / 3 \n",
    "#Mean Distance to Fire and Water \n",
    "test['Mean_Fire_Hyd']=(test.Horizontal_Distance_To_Fire_Points + test.Horizontal_Distance_To_Hydrology) / 2"
   ]
  },
  {
   "cell_type": "markdown",
   "metadata": {
    "_uuid": "100e865e26b317cb804163616e16cacb8c9a3ab0"
   },
   "source": [
    "# Model Building"
   ]
  },
  {
   "cell_type": "code",
   "execution_count": null,
   "metadata": {
    "_uuid": "f869bf827be014465557670459d4ac46500087a5",
    "collapsed": true
   },
   "outputs": [],
   "source": [
    "feature = [col for col in train.columns if col not in ['Cover_Type','Id']]\n",
    "X_train = train[feature]\n",
    "X_test = test[feature]\n",
    "etc = ensemble.ExtraTreesClassifier(n_estimators=350)  \n",
    "etc.fit(X_train, train['Cover_Type'])\n",
    "sub = pd.DataFrame({\"Id\": test['Id'],\"Cover_Type\": etc.predict(X_test)})\n",
    "sub.to_csv(\"etc.csv\", index=False) "
   ]
  },
  {
   "cell_type": "markdown",
   "metadata": {
    "_uuid": "c4020203ed0b8e551e69abba1c06ed7d004dc42c"
   },
   "source": [
    "**To Do :**\n",
    "  * More plots\n",
    "  * Feature Importance\n",
    "  * LB score improvement"
   ]
  },
  {
   "cell_type": "markdown",
   "metadata": {
    "_uuid": "c00b45c2db15075b48fa1b251db3548132a1f883"
   },
   "source": [
    "## More To Come Stayed Tuned !!"
   ]
  }
 ],
 "metadata": {
  "kernelspec": {
   "display_name": "Python 3",
   "language": "python",
   "name": "python3"
  },
  "language_info": {
   "codemirror_mode": {
    "name": "ipython",
    "version": 3
   },
   "file_extension": ".py",
   "mimetype": "text/x-python",
   "name": "python",
   "nbconvert_exporter": "python",
   "pygments_lexer": "ipython3",
   "version": "3.7.6"
  },
  "toc": {
   "base_numbering": 1,
   "nav_menu": {},
   "number_sections": true,
   "sideBar": true,
   "skip_h1_title": false,
   "title_cell": "Table of Contents",
   "title_sidebar": "Contents",
   "toc_cell": false,
   "toc_position": {},
   "toc_section_display": true,
   "toc_window_display": false
  }
 },
 "nbformat": 4,
 "nbformat_minor": 1
}
