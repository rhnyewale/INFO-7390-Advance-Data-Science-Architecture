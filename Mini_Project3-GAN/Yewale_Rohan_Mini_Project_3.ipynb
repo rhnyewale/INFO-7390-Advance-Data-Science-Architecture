{
 "cells": [
  {
   "cell_type": "markdown",
   "metadata": {
    "id": "vLgxRd_DU-yX"
   },
   "source": [
    "# GANs (Generative Adversarial Networks)\n",
    "\n",
    "## Abstract\n",
    "\n",
    "Our objective is to learn how to implement Generative Adversarial Networks(GANs) using Keras and TensorFlow. We will be implementing on Fashion MNIST dataset.\n",
    "\n",
    "**Objective**\n",
    "1. Discuss Generative Adversarial Networks\n",
    "2. Implement GAN architecture using Keras and Tensorflow\n",
    "3. Train Fashion MNIST dataset\n",
    "4. Generate fake/synthetic apparel images"
   ]
  },
  {
   "cell_type": "markdown",
   "metadata": {
    "id": "CceyJDFMVEyb"
   },
   "source": [
    "## Introduction\n",
    "\n",
    "GANs are made up of two components -\n",
    "\n",
    "**Generator** - generates new data instances\n",
    "\n",
    "**Discriminator** - tries to distinguish the generated or fake data from the real dataset.\n",
    "\n",
    "Discriminative algorithms try to classify input data; that is, given the features of an instance of data, they predict a label or category to which that data belongs. So discriminative algorithms map features to labels. They are concerned solely with that correlation.One the other way,loosely speaking,generative algorithms do the opposite. Instead of predicting a label given certain features, they attempt to predict features given a certain label.\n",
    "\n",
    "While training they both start together from scratch and the generator learn to shape the random distribition through the training epochs.\n",
    "\n",
    "**Generative Adversarial Networks** can be used to generate synthetic (i.e., fake) images that are perceptually near identical to their ground-truth authentic originals.\n",
    "\n",
    "<Img src=\"https://github.com/rhnyewale/INFO-7390-Advance-Data-Science-Architecture/blob/master/Mini_Project3-GAN/Images/GANs.jpg?raw=true\">\n",
    "\n",
    "In order to generate synthetic images, we make use of two neural networks during training:\n",
    "\n",
    "1. A generator that accepts an input vector of randomly generated noise and produces an output “imitation” image that looks similar, if not identical, to the authentic image\n",
    "2. A discriminator or adversary that attempts to determine if a given image is an “authentic” or “fake”\n",
    "\n",
    "By training these networks at the same time, one giving feedback to the other, we can learn to generate synthetic images."
   ]
  },
  {
   "cell_type": "markdown",
   "metadata": {
    "id": "dEi51ZhjVJWt"
   },
   "source": [
    "## General GAN training procedure\n",
    "\n",
    "<Img src=\"https://github.com/rhnyewale/INFO-7390-Advance-Data-Science-Architecture/blob/master/Mini_Project3-GAN/Images/GANs_Training%20.jpg?raw=true\">\n",
    "    \n",
    "    \n",
    "**Step 1** we randomly generate a vector (i.e., noise). We pass this noise through our generator,\n",
    "    \n",
    "**Step 2** which generates an actual image in **Step 2**\n",
    "    \n",
    "**Step 3** We then sample authentic images from our training set and mix them with our synthetic images\n",
    "\n",
    "**Step 4** next step is to train our discriminator using this mixed set. The goal of the discriminator is to correctly label each image as “real” or “fake.”\n",
    "\n",
    "**Step 5** Next, we’ll once again generate random noise, but this time we’ll purposely label each noise vector as a “real image” \n",
    "\n",
    "**Step 6** We’ll then train the GAN using the noise vectors and “real image” labels even though they are not actual real images\n",
    "    \n",
    "    \n",
    "**The reason this process works is due to the following:**\n",
    "\n",
    "1. We have frozen the weights of the discriminator at this stage, implying that the discriminator is not learning when we update the weights of the generator.\n",
    "    <br/><br/>\n",
    "2. We’re trying to “fool” the discriminator into being unable to determine which images are real vs. synthetic. The feedback from the discriminator will allow the generator to learn how to produce more authentic images."
   ]
  },
  {
   "cell_type": "markdown",
   "metadata": {
    "id": "NcodFM0nM-o6"
   },
   "source": [
    "# Training the Network\n",
    "\n",
    "The important thing about training a GAN is that the two components should never be trained together.<br/> Rather the network is trained in two different phases\n",
    "\n",
    "1. The first phase is for training the discriminator and updating the weights appropriately\n",
    "2. In the next step the generator is trained while the discriminator training is disabled.\n",
    "\n",
    "**Phase 1** During phase one of training the generator is fed random data(in the form of a distribution) as noise. The generator creates some random images which are given to the discriminator. The discriminator also takes input from dataset of real images. The discriminator learns to distinguish the real data from the fake ones by learning or assessing features from it's inputs. The discriminator outputs some probability and difference between the predicted results and the actual results are backpropagated through the network and the weights of the discriminator is updated. Remember during this phase, the backpropagation stops at the end of the discriminator and the generator is not trained or updated.\n",
    "\n",
    "**Phase 2** In this phase, the generator produced batch of images are directly given as input to the discriminator. The real images are not given this time to the discriminator. The generator learns by tricking the discriminator into it outputting false positives. The discriminator outputs probabilities which are assessed against the actual results and the weights of of the generator are updated through backpropagation. Remember here during backpropagation, the discriminator weights should not be updated and kept as they were before.\n",
    "\n",
    "<Img src=\"https://github.com/rhnyewale/INFO-7390-Advance-Data-Science-Architecture/blob/master/Mini_Project3-GAN/Images/GANs_Training2.jpg?raw=true\">"
   ]
  },
  {
   "cell_type": "markdown",
   "metadata": {
    "id": "esF7PmHhoIgo"
   },
   "source": [
    "# Loss Function of GAN\n",
    "\n",
    "The **generator** tries to **minimize** the following function while<br/>\n",
    "the **discriminator** tries to **maximize** it:\n",
    "\n",
    "<Img src=\"https://github.com/rhnyewale/INFO-7390-Advance-Data-Science-Architecture/blob/master/Mini_Project3-GAN/Images/Loss_Function.jpg?raw=true\">\n",
    "\n",
    "\n",
    "In this function:\n",
    "\n",
    "* D(x) is the discriminator's estimate of the probability that real data instance x is real\n",
    "* Ex is the expected value over all real data instances\n",
    "* G(z) is the generator's output when given noise z\n",
    "* D(G(z)) is the discriminator's estimate of the probability that a fake instance is real\n",
    "* Ez is the expected value over all random inputs to the generator (in effect, the expected value over all generated fake instances G(z))\n",
    "\n",
    "\n",
    "The generator can't directly affect the log(D(x)) term in the function, so, for the generator, minimizing the loss is equivalent to minimizing log(1 - D(G(z)))."
   ]
  },
  {
   "cell_type": "markdown",
   "metadata": {},
   "source": [
    "# Guidelines for Stable GAN architecture according to Radford paper.\n",
    "\n",
    "https://arxiv.org/abs/1511.06434<br/>\n",
    "\n",
    "* Replace any pooling layers with strided convolutions \n",
    "* Use batch normalization in both the generator and discriminator\n",
    "* Remove fully-connected layers in deeper networks\n",
    "* Use ReLU in the generator except for the final layer, which will utilize tanh\n",
    "* Use Leaky ReLU in the discriminator"
   ]
  },
  {
   "cell_type": "markdown",
   "metadata": {},
   "source": [
    "#  Recommendations on training GANs by Francois Chollet\n",
    "\n",
    "* Sample random vectors from a normal distribution (i.e., Gaussian distribution) rather than a uniform distribution\n",
    "* Add dropout to the discriminator\n",
    "* Add noise to the class labels when training the discriminator\n",
    "* To reduce checkerboard pixel artifacts in the output image, use a kernel size that is divisible by the stride when utilizing convolution or transposed convolution in both the generator and discriminator\n",
    "* If your adversarial loss rises dramatically while your discriminator loss falls to zero, try reducing the learning rate of the discriminator and increasing the dropout of the discriminator"
   ]
  },
  {
   "cell_type": "markdown",
   "metadata": {},
   "source": [
    "We’ll be using some of the techniques suggested by both Radford et al. and Chollet, but not all of them."
   ]
  },
  {
   "cell_type": "markdown",
   "metadata": {
    "id": "_HQg4JQbydfH"
   },
   "source": [
    "# Application of GANs\n",
    "\n",
    "* Generate Examples for Image Datasets\n",
    "* Generate Photographs of Human Faces\n",
    "* Generate Realistic Photographs\n",
    "* Image-to-Image Translation\n",
    "* Text-to-Image Translation\n",
    "* Semantic-Image-to-Photo Translation\n",
    "* Photos to Emojis\n",
    "* Face Aging\n",
    "* Super Resolution\n",
    "* 3D Object Generation"
   ]
  },
  {
   "cell_type": "markdown",
   "metadata": {
    "id": "zAckSQgGaGHY"
   },
   "source": [
    "### Install the necessary packages"
   ]
  },
  {
   "cell_type": "code",
   "execution_count": null,
   "metadata": {
    "colab": {
     "base_uri": "https://localhost:8080/"
    },
    "id": "n9FkaOfWwawu",
    "outputId": "2d967de2-2417-44df-f05b-2ae569640d13"
   },
   "outputs": [
    {
     "name": "stdout",
     "output_type": "stream",
     "text": [
      "Collecting tensorflow==2.2.0\n",
      "\u001b[?25l  Downloading https://files.pythonhosted.org/packages/3d/be/679ce5254a8c8d07470efb4a4c00345fae91f766e64f1c2aece8796d7218/tensorflow-2.2.0-cp36-cp36m-manylinux2010_x86_64.whl (516.2MB)\n",
      "\u001b[K     |████████████████████████████████| 516.2MB 33kB/s \n",
      "\u001b[?25hRequirement already satisfied: google-pasta>=0.1.8 in /usr/local/lib/python3.6/dist-packages (from tensorflow==2.2.0) (0.2.0)\n",
      "Requirement already satisfied: gast==0.3.3 in /usr/local/lib/python3.6/dist-packages (from tensorflow==2.2.0) (0.3.3)\n",
      "Requirement already satisfied: six>=1.12.0 in /usr/local/lib/python3.6/dist-packages (from tensorflow==2.2.0) (1.15.0)\n",
      "Requirement already satisfied: absl-py>=0.7.0 in /usr/local/lib/python3.6/dist-packages (from tensorflow==2.2.0) (0.10.0)\n",
      "Requirement already satisfied: opt-einsum>=2.3.2 in /usr/local/lib/python3.6/dist-packages (from tensorflow==2.2.0) (3.3.0)\n",
      "Requirement already satisfied: grpcio>=1.8.6 in /usr/local/lib/python3.6/dist-packages (from tensorflow==2.2.0) (1.33.2)\n",
      "Requirement already satisfied: h5py<2.11.0,>=2.10.0 in /usr/local/lib/python3.6/dist-packages (from tensorflow==2.2.0) (2.10.0)\n",
      "Requirement already satisfied: astunparse==1.6.3 in /usr/local/lib/python3.6/dist-packages (from tensorflow==2.2.0) (1.6.3)\n",
      "Requirement already satisfied: keras-preprocessing>=1.1.0 in /usr/local/lib/python3.6/dist-packages (from tensorflow==2.2.0) (1.1.2)\n",
      "Requirement already satisfied: wheel>=0.26; python_version >= \"3\" in /usr/local/lib/python3.6/dist-packages (from tensorflow==2.2.0) (0.35.1)\n",
      "Requirement already satisfied: numpy<2.0,>=1.16.0 in /usr/local/lib/python3.6/dist-packages (from tensorflow==2.2.0) (1.18.5)\n",
      "Requirement already satisfied: termcolor>=1.1.0 in /usr/local/lib/python3.6/dist-packages (from tensorflow==2.2.0) (1.1.0)\n",
      "Requirement already satisfied: scipy==1.4.1; python_version >= \"3\" in /usr/local/lib/python3.6/dist-packages (from tensorflow==2.2.0) (1.4.1)\n",
      "Requirement already satisfied: wrapt>=1.11.1 in /usr/local/lib/python3.6/dist-packages (from tensorflow==2.2.0) (1.12.1)\n",
      "Collecting tensorflow-estimator<2.3.0,>=2.2.0\n",
      "\u001b[?25l  Downloading https://files.pythonhosted.org/packages/a4/f5/926ae53d6a226ec0fda5208e0e581cffed895ccc89e36ba76a8e60895b78/tensorflow_estimator-2.2.0-py2.py3-none-any.whl (454kB)\n",
      "\u001b[K     |████████████████████████████████| 460kB 46.2MB/s \n",
      "\u001b[?25hRequirement already satisfied: protobuf>=3.8.0 in /usr/local/lib/python3.6/dist-packages (from tensorflow==2.2.0) (3.12.4)\n",
      "Collecting tensorboard<2.3.0,>=2.2.0\n",
      "\u001b[?25l  Downloading https://files.pythonhosted.org/packages/1d/74/0a6fcb206dcc72a6da9a62dd81784bfdbff5fedb099982861dc2219014fb/tensorboard-2.2.2-py3-none-any.whl (3.0MB)\n",
      "\u001b[K     |████████████████████████████████| 3.0MB 49.4MB/s \n",
      "\u001b[?25hRequirement already satisfied: setuptools in /usr/local/lib/python3.6/dist-packages (from protobuf>=3.8.0->tensorflow==2.2.0) (50.3.2)\n",
      "Requirement already satisfied: requests<3,>=2.21.0 in /usr/local/lib/python3.6/dist-packages (from tensorboard<2.3.0,>=2.2.0->tensorflow==2.2.0) (2.23.0)\n",
      "Requirement already satisfied: google-auth-oauthlib<0.5,>=0.4.1 in /usr/local/lib/python3.6/dist-packages (from tensorboard<2.3.0,>=2.2.0->tensorflow==2.2.0) (0.4.2)\n",
      "Requirement already satisfied: tensorboard-plugin-wit>=1.6.0 in /usr/local/lib/python3.6/dist-packages (from tensorboard<2.3.0,>=2.2.0->tensorflow==2.2.0) (1.7.0)\n",
      "Requirement already satisfied: google-auth<2,>=1.6.3 in /usr/local/lib/python3.6/dist-packages (from tensorboard<2.3.0,>=2.2.0->tensorflow==2.2.0) (1.17.2)\n",
      "Requirement already satisfied: werkzeug>=0.11.15 in /usr/local/lib/python3.6/dist-packages (from tensorboard<2.3.0,>=2.2.0->tensorflow==2.2.0) (1.0.1)\n",
      "Requirement already satisfied: markdown>=2.6.8 in /usr/local/lib/python3.6/dist-packages (from tensorboard<2.3.0,>=2.2.0->tensorflow==2.2.0) (3.3.3)\n",
      "Requirement already satisfied: idna<3,>=2.5 in /usr/local/lib/python3.6/dist-packages (from requests<3,>=2.21.0->tensorboard<2.3.0,>=2.2.0->tensorflow==2.2.0) (2.10)\n",
      "Requirement already satisfied: urllib3!=1.25.0,!=1.25.1,<1.26,>=1.21.1 in /usr/local/lib/python3.6/dist-packages (from requests<3,>=2.21.0->tensorboard<2.3.0,>=2.2.0->tensorflow==2.2.0) (1.24.3)\n",
      "Requirement already satisfied: chardet<4,>=3.0.2 in /usr/local/lib/python3.6/dist-packages (from requests<3,>=2.21.0->tensorboard<2.3.0,>=2.2.0->tensorflow==2.2.0) (3.0.4)\n",
      "Requirement already satisfied: certifi>=2017.4.17 in /usr/local/lib/python3.6/dist-packages (from requests<3,>=2.21.0->tensorboard<2.3.0,>=2.2.0->tensorflow==2.2.0) (2020.11.8)\n",
      "Requirement already satisfied: requests-oauthlib>=0.7.0 in /usr/local/lib/python3.6/dist-packages (from google-auth-oauthlib<0.5,>=0.4.1->tensorboard<2.3.0,>=2.2.0->tensorflow==2.2.0) (1.3.0)\n",
      "Requirement already satisfied: cachetools<5.0,>=2.0.0 in /usr/local/lib/python3.6/dist-packages (from google-auth<2,>=1.6.3->tensorboard<2.3.0,>=2.2.0->tensorflow==2.2.0) (4.1.1)\n",
      "Requirement already satisfied: pyasn1-modules>=0.2.1 in /usr/local/lib/python3.6/dist-packages (from google-auth<2,>=1.6.3->tensorboard<2.3.0,>=2.2.0->tensorflow==2.2.0) (0.2.8)\n",
      "Requirement already satisfied: rsa<5,>=3.1.4; python_version >= \"3\" in /usr/local/lib/python3.6/dist-packages (from google-auth<2,>=1.6.3->tensorboard<2.3.0,>=2.2.0->tensorflow==2.2.0) (4.6)\n",
      "Requirement already satisfied: importlib-metadata; python_version < \"3.8\" in /usr/local/lib/python3.6/dist-packages (from markdown>=2.6.8->tensorboard<2.3.0,>=2.2.0->tensorflow==2.2.0) (2.0.0)\n",
      "Requirement already satisfied: oauthlib>=3.0.0 in /usr/local/lib/python3.6/dist-packages (from requests-oauthlib>=0.7.0->google-auth-oauthlib<0.5,>=0.4.1->tensorboard<2.3.0,>=2.2.0->tensorflow==2.2.0) (3.1.0)\n",
      "Requirement already satisfied: pyasn1<0.5.0,>=0.4.6 in /usr/local/lib/python3.6/dist-packages (from pyasn1-modules>=0.2.1->google-auth<2,>=1.6.3->tensorboard<2.3.0,>=2.2.0->tensorflow==2.2.0) (0.4.8)\n",
      "Requirement already satisfied: zipp>=0.5 in /usr/local/lib/python3.6/dist-packages (from importlib-metadata; python_version < \"3.8\"->markdown>=2.6.8->tensorboard<2.3.0,>=2.2.0->tensorflow==2.2.0) (3.4.0)\n",
      "Installing collected packages: tensorflow-estimator, tensorboard, tensorflow\n",
      "  Found existing installation: tensorflow-estimator 2.3.0\n",
      "    Uninstalling tensorflow-estimator-2.3.0:\n",
      "      Successfully uninstalled tensorflow-estimator-2.3.0\n",
      "  Found existing installation: tensorboard 2.3.0\n",
      "    Uninstalling tensorboard-2.3.0:\n",
      "      Successfully uninstalled tensorboard-2.3.0\n",
      "  Found existing installation: tensorflow 2.3.0\n",
      "    Uninstalling tensorflow-2.3.0:\n",
      "      Successfully uninstalled tensorflow-2.3.0\n",
      "Successfully installed tensorboard-2.2.2 tensorflow-2.2.0 tensorflow-estimator-2.2.0\n"
     ]
    }
   ],
   "source": [
    "!pip install tensorflow==2.2.0"
   ]
  },
  {
   "cell_type": "markdown",
   "metadata": {
    "id": "wcrOk6pURp50"
   },
   "source": [
    "### Import Packages"
   ]
  },
  {
   "cell_type": "code",
   "execution_count": 1,
   "metadata": {
    "id": "VJaCNlDDRz6d"
   },
   "outputs": [],
   "source": [
    "# import the necessary packages\n",
    "from tensorflow.keras.models import Sequential\n",
    "from tensorflow.keras.layers import BatchNormalization\n",
    "from tensorflow.keras.layers import Conv2DTranspose\n",
    "from tensorflow.keras.layers import Conv2D\n",
    "from tensorflow.keras.layers import LeakyReLU\n",
    "from tensorflow.keras.layers import Activation\n",
    "from tensorflow.keras.layers import Flatten\n",
    "from tensorflow.keras.layers import Dense\n",
    "from tensorflow.keras.layers import Reshape\n",
    "from tensorflow.keras.models import Model\n",
    "from tensorflow.keras.layers import Input\n",
    "from tensorflow.keras.optimizers import Adam\n",
    "from tensorflow.keras.datasets import fashion_mnist\n",
    "from matplotlib import pyplot as plt\n",
    "from imutils import build_montages\n",
    "from sklearn.utils import shuffle\n",
    "import numpy as np\n",
    "import argparse\n",
    "import cv2\n",
    "import os"
   ]
  },
  {
   "cell_type": "markdown",
   "metadata": {
    "id": "lBrLwCtN5kqy"
   },
   "source": [
    "### Function to display images in Jupyter Notebooks and Google Colab"
   ]
  },
  {
   "cell_type": "code",
   "execution_count": 2,
   "metadata": {
    "id": "fRw969Dp5Kdm"
   },
   "outputs": [],
   "source": [
    "def plt_imshow(title, image):\n",
    "  # convert the image frame BGR to RGB color space and display it\n",
    "\timage = cv2.cvtColor(image, cv2.COLOR_BGR2RGB)\n",
    "\tplt.imshow(image, aspect=\"auto\")\n",
    "\tplt.title(title)\n",
    "\tplt.grid(False)\n",
    "\tplt.show()"
   ]
  },
  {
   "cell_type": "markdown",
   "metadata": {
    "id": "W54NJvphSiac"
   },
   "source": [
    "**Transposed convolutional layers**, sometimes referred to as **fractionally-strided convolution** or (incorrectly) **deconvolution**, are used when we need a transform going in the opposite direction of a normal convolution.\n",
    "\n",
    "The generator of our GAN will accept an N dimensional input vector (i.e., a list of numbers, but a volume like an image) and then transform the N dimensional vector into an output image.\n",
    "\n",
    "This process implies that we need to reshape and then upscale this vector into a volume as it passes through the network — to accomplish this reshaping and upscaling, we’ll need transposed convolution.\n",
    "\n",
    "**Transposed convolution** as the method to:\n",
    "\n",
    "1. Accept an input volume from a previous layer in the network\n",
    "2. Produce an output volume that is larger than the input volume\n",
    "3. Maintain a connectivity pattern between the input and output\n",
    "\n",
    "In essence our transposed convolution layer will reconstruct our target spatial resolution and perform a normal convolution operation, utilizing fancy zero-padding techniques to ensure our output spatial dimensions are met."
   ]
  },
  {
   "cell_type": "markdown",
   "metadata": {
    "id": "Jppw5-Bd56H-"
   },
   "source": [
    "### Implementing our “generator” and “discriminator” with Keras and TensorFlow\n",
    "\n",
    "Here we define the build_generator function inside DCGAN.\n",
    "The build_generator accepts a number of arguments.\n",
    "\n",
    "* dim: The target spatial dimensions (width and height) of the generator after reshaping\n",
    "* depth: The target depth of the volume after reshaping\n",
    "* channels: The number of channels in the output volume from the generator (i.e., 1 for grayscale images and 3 for RGB images)\n",
    "* inputDim: Dimensionality of the randomly generated input vector to the generator\n",
    "* outputDim: Dimensionality of the output fully-connected layer from the randomly generated input vector"
   ]
  },
  {
   "cell_type": "code",
   "execution_count": 3,
   "metadata": {
    "id": "cwHgIBergNRm"
   },
   "outputs": [],
   "source": [
    "class DCGAN:\n",
    "\t@staticmethod\n",
    "\tdef build_generator(dim, depth, channels=1, inputDim=100,\n",
    "\t\toutputDim=512):\n",
    "\t\t# initialize the model along with the input shape to be\n",
    "\t\t# \"channels last\" and the channels dimension itself\n",
    "\t\tmodel = Sequential()\n",
    "\t\tinputShape = (dim, dim, depth)\n",
    "\t\tchanDim = -1\n",
    "\n",
    "        # first set of FC => RELU => BN layers\n",
    "\t\tmodel.add(Dense(input_dim=inputDim, units=outputDim))\n",
    "\t\tmodel.add(Activation(\"relu\"))\n",
    "\t\tmodel.add(BatchNormalization())\n",
    "\n",
    "\t\t# second set of FC => RELU => BN layers, this time preparing\n",
    "\t\t# the number of FC nodes to be reshaped into a volume\n",
    "\t\tmodel.add(Dense(dim * dim * depth))\n",
    "\t\tmodel.add(Activation(\"relu\"))\n",
    "\t\tmodel.add(BatchNormalization())\n",
    "  \n",
    "  \t\t# reshape the output of the previous layer set, upsample +\n",
    "\t\t# apply a transposed convolution, RELU, and BN\n",
    "\t\tmodel.add(Reshape(inputShape))\n",
    "\t\tmodel.add(Conv2DTranspose(32, (5, 5), strides=(2, 2),\n",
    "\t\t\tpadding=\"same\"))\n",
    "\t\tmodel.add(Activation(\"relu\"))\n",
    "\t\tmodel.add(BatchNormalization(axis=chanDim))\n",
    "  \n",
    "  \t\t# apply another upsample and transposed convolution, but\n",
    "\t\t# this time output the TANH activation\n",
    "\t\tmodel.add(Conv2DTranspose(channels, (5, 5), strides=(2, 2),\n",
    "\t\t\tpadding=\"same\"))\n",
    "\t\tmodel.add(Activation(\"tanh\"))\n",
    "\n",
    "\t\t# return the generator model\n",
    "\t\treturn model\n",
    "\n",
    "# While the generator is intended to create synthetic images,\n",
    "# the discriminator is used to classify whether any given input image is real or fake.\n",
    "\n",
    "\t@staticmethod\n",
    "\tdef build_discriminator(width, height, depth, alpha=0.2):\n",
    "\t\t# initialize the model along with the input shape to be\n",
    "\t\t# \"channels last\"\n",
    "\t\tmodel = Sequential()\n",
    "\t\tinputShape = (height, width, depth)\n",
    "\n",
    "\t\t# first set of CONV => RELU layers\n",
    "\t\tmodel.add(Conv2D(32, (5, 5), padding=\"same\", strides=(2, 2),\n",
    "\t\t\tinput_shape=inputShape))\n",
    "\t\tmodel.add(LeakyReLU(alpha=alpha))\n",
    "\n",
    "\t\t# second set of CONV => RELU layers\n",
    "\t\tmodel.add(Conv2D(64, (5, 5), padding=\"same\", strides=(2, 2)))\n",
    "\t\tmodel.add(LeakyReLU(alpha=alpha))\n",
    "\n",
    "\t\t# first (and only) set of FC => RELU layers\n",
    "\t\tmodel.add(Flatten())\n",
    "\t\tmodel.add(Dense(512))\n",
    "\t\tmodel.add(LeakyReLU(alpha=alpha))\n",
    "\n",
    "\t\t# sigmoid layer outputting a single value\n",
    "\t\tmodel.add(Dense(1))\n",
    "\t\tmodel.add(Activation(\"sigmoid\"))\n",
    "  \n",
    "    # All activation layers utilize a Leaky ReLU activation to stabilize training,\n",
    "    # except for the final activation function which is sigmoid.\n",
    "    # We use a sigmoid here to capture the probability of whether the input image is real or synthetic.\n",
    "\n",
    "\t\t# return the discriminator model\n",
    "\t\treturn model"
   ]
  },
  {
   "cell_type": "markdown",
   "metadata": {
    "id": "M3p5IY4Dfsa8"
   },
   "source": [
    "\n"
   ]
  },
  {
   "cell_type": "markdown",
   "metadata": {
    "id": "2oDMMjdvg13X"
   },
   "source": [
    "### Implementing our GAN training script"
   ]
  },
  {
   "cell_type": "code",
   "execution_count": 4,
   "metadata": {
    "id": "okM7Bpyeq8Kc"
   },
   "outputs": [],
   "source": [
    "# parsing code with *hard coded* arguments and values\n",
    "args = {\n",
    "\t\"output\": \"output\",\n",
    "\t\"epochs\": 50,\n",
    "\t\"batch_size\": 128\n",
    "}"
   ]
  },
  {
   "cell_type": "code",
   "execution_count": 5,
   "metadata": {
    "id": "Zgwh3CUjhe6j"
   },
   "outputs": [],
   "source": [
    "# store the epochs and batch size in convenience variables, then\n",
    "# initialize our learning rate\n",
    "NUM_EPOCHS = args[\"epochs\"]\n",
    "BATCH_SIZE = args[\"batch_size\"]\n",
    "INIT_LR = 2e-4"
   ]
  },
  {
   "cell_type": "markdown",
   "metadata": {
    "id": "Npe914Lvh04x"
   },
   "source": [
    "## Loading Fashion MNIST dataset\n",
    "Class labels can be ignored here, since we do not need them — we are only interested in the actual pixel data.\n",
    "\n",
    "Furthermore, there is no concept of a “test set” for GANs. Our goal when training a GAN isn’t minimal loss or high accuracy. Instead, we seek an equilibrium between the generator and the discriminator.\n",
    "\n",
    "To help us obtain this equilibrium, we combine both the training and testing images to give us additional training data."
   ]
  },
  {
   "cell_type": "code",
   "execution_count": 6,
   "metadata": {
    "colab": {
     "base_uri": "https://localhost:8080/"
    },
    "id": "LfCBguOqhjKq",
    "outputId": "6709ed6d-3009-4537-8a8f-2c3917ba77e4"
   },
   "outputs": [
    {
     "name": "stdout",
     "output_type": "stream",
     "text": [
      "[INFO] loading MNIST dataset...\n"
     ]
    }
   ],
   "source": [
    "# load the Fashion MNIST dataset and stack the training and testing\n",
    "# data points so we have additional training data\n",
    "print(\"[INFO] loading MNIST dataset...\")\n",
    "((trainX, _), (testX, _)) = fashion_mnist.load_data()\n",
    "trainImages = np.concatenate([trainX, testX]) #To equilibrium, combine both the training and testing images to give additional training data.\n",
    "\n",
    "# add in an extra dimension for the channel and scale the images\n",
    "# into the range [-1, 1] (which is the range of the tanh\n",
    "# function)\n",
    "trainImages = np.expand_dims(trainImages, axis=-1)\n",
    "trainImages = (trainImages.astype(\"float\") - 127.5) / 127.5"
   ]
  },
  {
   "cell_type": "code",
   "execution_count": 7,
   "metadata": {
    "colab": {
     "base_uri": "https://localhost:8080/"
    },
    "id": "S0NasxSYdMFV",
    "outputId": "c04fc6b4-92fb-4b6c-e0b7-a03b12bb4f63"
   },
   "outputs": [
    {
     "name": "stdout",
     "output_type": "stream",
     "text": [
      "[INFO] building generator...\n"
     ]
    }
   ],
   "source": [
    "# build the generator\n",
    "print(\"[INFO] building generator...\")\n",
    "gen = DCGAN.build_generator(7, 64, channels=1)\n"
   ]
  },
  {
   "cell_type": "code",
   "execution_count": 8,
   "metadata": {
    "colab": {
     "base_uri": "https://localhost:8080/"
    },
    "id": "yxngSuf5dO7P",
    "outputId": "1db1ae3c-1583-4e50-9491-4add2c681d34"
   },
   "outputs": [
    {
     "name": "stdout",
     "output_type": "stream",
     "text": [
      "Model: \"sequential\"\n",
      "_________________________________________________________________\n",
      "Layer (type)                 Output Shape              Param #   \n",
      "=================================================================\n",
      "dense (Dense)                (None, 512)               51712     \n",
      "_________________________________________________________________\n",
      "activation (Activation)      (None, 512)               0         \n",
      "_________________________________________________________________\n",
      "batch_normalization (BatchNo (None, 512)               2048      \n",
      "_________________________________________________________________\n",
      "dense_1 (Dense)              (None, 3136)              1608768   \n",
      "_________________________________________________________________\n",
      "activation_1 (Activation)    (None, 3136)              0         \n",
      "_________________________________________________________________\n",
      "batch_normalization_1 (Batch (None, 3136)              12544     \n",
      "_________________________________________________________________\n",
      "reshape (Reshape)            (None, 7, 7, 64)          0         \n",
      "_________________________________________________________________\n",
      "conv2d_transpose (Conv2DTran (None, 14, 14, 32)        51232     \n",
      "_________________________________________________________________\n",
      "activation_2 (Activation)    (None, 14, 14, 32)        0         \n",
      "_________________________________________________________________\n",
      "batch_normalization_2 (Batch (None, 14, 14, 32)        128       \n",
      "_________________________________________________________________\n",
      "conv2d_transpose_1 (Conv2DTr (None, 28, 28, 1)         801       \n",
      "_________________________________________________________________\n",
      "activation_3 (Activation)    (None, 28, 28, 1)         0         \n",
      "=================================================================\n",
      "Total params: 1,727,233\n",
      "Trainable params: 1,719,873\n",
      "Non-trainable params: 7,360\n",
      "_________________________________________________________________\n"
     ]
    }
   ],
   "source": [
    "gen.summary()"
   ]
  },
  {
   "cell_type": "markdown",
   "metadata": {
    "id": "XbQUwppsdWyB"
   },
   "source": [
    "First, our model will accept an input vector that is 100-d, then transform it to a 512-d vector via an FC layer.\n",
    "\n",
    "We then add a second FC layer, this one with 7x7x64 = 3,136 nodes. We reshape these 3,136 nodes into a 3D volume with shape 7×7 = 64 — this reshaping is only possible since our previous FC layer matches the number of nodes in the reshaped volume.\n",
    "\n",
    "Applying a transposed convolution with a 2×2 stride increases our spatial dimensions from 7×7 to 14×14.\n",
    "\n",
    "A second transposed convolution (again, with a stride of 2×2) increases our spatial dimension resolution from 14×14 to 28×18 with a single channel, which is the exact dimensions of our input images in the Fashion MNIST dataset.\n",
    "\n",
    "When implementing your own GANs, make sure the spatial dimensions of the output volume match the spatial dimensions of your input images."
   ]
  },
  {
   "cell_type": "code",
   "execution_count": 9,
   "metadata": {
    "colab": {
     "base_uri": "https://localhost:8080/"
    },
    "id": "Wi4dCP3khkdo",
    "outputId": "b3ff0da8-7af9-4a1b-c6a1-519ff114d534"
   },
   "outputs": [
    {
     "name": "stdout",
     "output_type": "stream",
     "text": [
      "[INFO] building discriminator...\n"
     ]
    }
   ],
   "source": [
    "# build the discriminator\n",
    "print(\"[INFO] building discriminator...\")\n",
    "disc = DCGAN.build_discriminator(28, 28, 1)\n",
    "discOpt = Adam(lr=INIT_LR, beta_1=0.5, decay=INIT_LR / NUM_EPOCHS)\n",
    "disc.compile(loss=\"binary_crossentropy\", optimizer=discOpt)"
   ]
  },
  {
   "cell_type": "markdown",
   "metadata": {
    "id": "zsi5O7XnopJ3"
   },
   "source": [
    "We are using **binary cross-entropy** here, as our **discriminator** has a **sigmoid activation** function that will return a probability indicating whether the input image is real vs. fake. Since there are only two “class labels” (real vs. synthetic), we use binary cross-entropy.\n",
    "\n",
    "The learning rate and beta value for the Adam optimizer were experimentally tuned. Lower learning rate and beta value for the Adam optimizer improves GAN training on the Fashion MNIST dataset. Applying learning rate decay helps stabilize training as well."
   ]
  },
  {
   "cell_type": "code",
   "execution_count": 11,
   "metadata": {
    "colab": {
     "base_uri": "https://localhost:8080/"
    },
    "id": "BC-vCwEhhnKE",
    "outputId": "02375a40-fada-482e-bb64-1f6aaa485cff"
   },
   "outputs": [
    {
     "name": "stdout",
     "output_type": "stream",
     "text": [
      "[INFO] building GAN...\n"
     ]
    }
   ],
   "source": [
    "# build the adversarial model by first setting the discriminator to\n",
    "# *not* be trainable, then combine the generator and discriminator\n",
    "# together\n",
    "print(\"[INFO] building GAN...\")\n",
    "disc.trainable = False  # first we need to freeze the discriminator weights before we combine the models to form our GAN\n",
    "ganInput = Input(shape=(100,))\n",
    "ganOutput = disc(gen(ganInput))\n",
    "gan = Model(ganInput, ganOutput)\n",
    "\n",
    "# compile the GAN\n",
    "ganOpt = Adam(lr=INIT_LR, beta_1=0.5, decay=INIT_LR / NUM_EPOCHS)\n",
    "gan.compile(loss=\"binary_crossentropy\", optimizer=discOpt)"
   ]
  },
  {
   "cell_type": "markdown",
   "metadata": {
    "id": "v5x_Ac5GtzTE"
   },
   "source": [
    "The input to the gan will take a random vector that is 100-d. This value will be passed through the generator first, the output of which will go to the discriminator.\n",
    "\n",
    "The discriminator weights are frozen at this point so the feedback from the discriminator will enable the generator to learn how to generate better synthetic images."
   ]
  },
  {
   "cell_type": "code",
   "execution_count": 12,
   "metadata": {
    "colab": {
     "base_uri": "https://localhost:8080/"
    },
    "id": "SPes5dYwhqL5",
    "outputId": "c87c9308-9384-4a81-b2bb-3911a102d0d7"
   },
   "outputs": [
    {
     "name": "stdout",
     "output_type": "stream",
     "text": [
      "[INFO] starting training...\n",
      "[INFO] starting epoch 1 of 50...\n",
      "[INFO] Step 1_0: discriminator_loss=0.668885, adversarial_loss=0.604357\n",
      "[INFO] Step 1_25: discriminator_loss=0.051128, adversarial_loss=0.013817\n",
      "[INFO] Step 1_50: discriminator_loss=0.001259, adversarial_loss=0.001632\n",
      "[INFO] Step 1_75: discriminator_loss=0.000278, adversarial_loss=0.000908\n",
      "[INFO] Step 1_100: discriminator_loss=0.000243, adversarial_loss=0.000630\n",
      "[INFO] Step 1_125: discriminator_loss=0.000101, adversarial_loss=0.000551\n",
      "[INFO] Step 1_150: discriminator_loss=0.000095, adversarial_loss=0.000543\n",
      "[INFO] Step 1_175: discriminator_loss=0.000116, adversarial_loss=0.000666\n",
      "[INFO] Step 1_200: discriminator_loss=0.491206, adversarial_loss=2.001959\n",
      "[INFO] Step 1_225: discriminator_loss=0.220951, adversarial_loss=1.456180\n",
      "[INFO] Step 1_250: discriminator_loss=0.148771, adversarial_loss=0.927086\n",
      "[INFO] Step 1_275: discriminator_loss=0.410820, adversarial_loss=1.481503\n",
      "[INFO] Step 1_300: discriminator_loss=0.505232, adversarial_loss=3.537425\n",
      "[INFO] Step 1_325: discriminator_loss=0.420626, adversarial_loss=1.781407\n",
      "[INFO] Step 1_350: discriminator_loss=0.524973, adversarial_loss=0.390023\n",
      "[INFO] Step 1_375: discriminator_loss=0.445776, adversarial_loss=1.629554\n",
      "[INFO] Step 1_400: discriminator_loss=0.401680, adversarial_loss=0.997526\n",
      "[INFO] Step 1_425: discriminator_loss=0.353718, adversarial_loss=1.609818\n",
      "[INFO] Step 1_450: discriminator_loss=0.394325, adversarial_loss=1.507872\n",
      "[INFO] Step 1_475: discriminator_loss=0.412033, adversarial_loss=0.959619\n",
      "[INFO] Step 1_500: discriminator_loss=0.451278, adversarial_loss=0.919317\n",
      "[INFO] Step 1_525: discriminator_loss=0.424682, adversarial_loss=1.275879\n",
      "[INFO] Step 1_545: discriminator_loss=0.496474, adversarial_loss=1.947003\n",
      "[INFO] starting epoch 2 of 50...\n",
      "[INFO] Step 2_0: discriminator_loss=0.487533, adversarial_loss=1.263456\n",
      "[INFO] Step 2_25: discriminator_loss=0.387355, adversarial_loss=1.527134\n",
      "[INFO] Step 2_50: discriminator_loss=0.550794, adversarial_loss=1.793365\n",
      "[INFO] Step 2_75: discriminator_loss=0.453378, adversarial_loss=2.058038\n",
      "[INFO] Step 2_100: discriminator_loss=0.472764, adversarial_loss=1.118765\n",
      "[INFO] Step 2_125: discriminator_loss=0.445212, adversarial_loss=2.253928\n",
      "[INFO] Step 2_150: discriminator_loss=0.794293, adversarial_loss=0.815638\n",
      "[INFO] Step 2_175: discriminator_loss=0.451352, adversarial_loss=1.923009\n",
      "[INFO] Step 2_200: discriminator_loss=0.445021, adversarial_loss=0.970898\n",
      "[INFO] Step 2_225: discriminator_loss=0.435292, adversarial_loss=1.164998\n",
      "[INFO] Step 2_250: discriminator_loss=0.435594, adversarial_loss=1.176141\n",
      "[INFO] Step 2_275: discriminator_loss=0.477834, adversarial_loss=1.114749\n",
      "[INFO] Step 2_300: discriminator_loss=0.496989, adversarial_loss=1.005275\n",
      "[INFO] Step 2_325: discriminator_loss=0.464666, adversarial_loss=1.347629\n",
      "[INFO] Step 2_350: discriminator_loss=0.601426, adversarial_loss=2.010869\n",
      "[INFO] Step 2_375: discriminator_loss=0.453675, adversarial_loss=1.649569\n",
      "[INFO] Step 2_400: discriminator_loss=0.528584, adversarial_loss=0.798035\n",
      "[INFO] Step 2_425: discriminator_loss=0.461359, adversarial_loss=1.253243\n",
      "[INFO] Step 2_450: discriminator_loss=0.592678, adversarial_loss=0.883482\n",
      "[INFO] Step 2_475: discriminator_loss=0.483607, adversarial_loss=1.138718\n",
      "[INFO] Step 2_500: discriminator_loss=0.465785, adversarial_loss=1.296740\n",
      "[INFO] Step 2_525: discriminator_loss=0.546698, adversarial_loss=0.814213\n",
      "[INFO] Step 2_545: discriminator_loss=0.567339, adversarial_loss=0.658083\n",
      "[INFO] starting epoch 3 of 50...\n",
      "[INFO] Step 3_0: discriminator_loss=0.595523, adversarial_loss=1.895601\n",
      "[INFO] Step 3_25: discriminator_loss=0.494546, adversarial_loss=0.985097\n",
      "[INFO] Step 3_50: discriminator_loss=0.516887, adversarial_loss=0.888930\n",
      "[INFO] Step 3_75: discriminator_loss=0.489706, adversarial_loss=1.390166\n",
      "[INFO] Step 3_100: discriminator_loss=0.521903, adversarial_loss=0.875543\n",
      "[INFO] Step 3_125: discriminator_loss=0.521298, adversarial_loss=1.092379\n",
      "[INFO] Step 3_150: discriminator_loss=0.636116, adversarial_loss=0.652668\n",
      "[INFO] Step 3_175: discriminator_loss=0.546192, adversarial_loss=0.876243\n",
      "[INFO] Step 3_200: discriminator_loss=0.575843, adversarial_loss=0.750598\n",
      "[INFO] Step 3_225: discriminator_loss=0.514825, adversarial_loss=0.952526\n",
      "[INFO] Step 3_250: discriminator_loss=0.544591, adversarial_loss=1.020154\n",
      "[INFO] Step 3_275: discriminator_loss=0.541315, adversarial_loss=0.866747\n",
      "[INFO] Step 3_300: discriminator_loss=0.524163, adversarial_loss=1.121149\n",
      "[INFO] Step 3_325: discriminator_loss=0.525366, adversarial_loss=0.930344\n",
      "[INFO] Step 3_350: discriminator_loss=0.567016, adversarial_loss=1.621943\n",
      "[INFO] Step 3_375: discriminator_loss=0.501341, adversarial_loss=1.216931\n",
      "[INFO] Step 3_400: discriminator_loss=0.525335, adversarial_loss=1.301680\n",
      "[INFO] Step 3_425: discriminator_loss=0.530863, adversarial_loss=0.949111\n",
      "[INFO] Step 3_450: discriminator_loss=0.537760, adversarial_loss=1.075872\n",
      "[INFO] Step 3_475: discriminator_loss=0.507987, adversarial_loss=1.108917\n",
      "[INFO] Step 3_500: discriminator_loss=0.559227, adversarial_loss=1.334824\n",
      "[INFO] Step 3_525: discriminator_loss=0.553656, adversarial_loss=0.904388\n",
      "[INFO] Step 3_545: discriminator_loss=0.537349, adversarial_loss=0.859001\n",
      "[INFO] starting epoch 4 of 50...\n",
      "[INFO] Step 4_0: discriminator_loss=0.569176, adversarial_loss=1.353779\n",
      "[INFO] Step 4_25: discriminator_loss=0.540253, adversarial_loss=0.928931\n",
      "[INFO] Step 4_50: discriminator_loss=0.587518, adversarial_loss=0.858453\n",
      "[INFO] Step 4_75: discriminator_loss=0.541138, adversarial_loss=1.214415\n",
      "[INFO] Step 4_100: discriminator_loss=0.544879, adversarial_loss=0.927394\n",
      "[INFO] Step 4_125: discriminator_loss=0.548760, adversarial_loss=0.921355\n",
      "[INFO] Step 4_150: discriminator_loss=0.598731, adversarial_loss=1.068537\n",
      "[INFO] Step 4_175: discriminator_loss=0.614902, adversarial_loss=0.707518\n",
      "[INFO] Step 4_200: discriminator_loss=0.539372, adversarial_loss=0.846602\n",
      "[INFO] Step 4_225: discriminator_loss=0.556294, adversarial_loss=1.005373\n",
      "[INFO] Step 4_250: discriminator_loss=0.560013, adversarial_loss=0.858355\n",
      "[INFO] Step 4_275: discriminator_loss=0.640542, adversarial_loss=0.683349\n",
      "[INFO] Step 4_300: discriminator_loss=0.544961, adversarial_loss=0.891960\n",
      "[INFO] Step 4_325: discriminator_loss=0.654581, adversarial_loss=0.476626\n",
      "[INFO] Step 4_350: discriminator_loss=0.541544, adversarial_loss=1.083786\n",
      "[INFO] Step 4_375: discriminator_loss=0.610060, adversarial_loss=1.225405\n",
      "[INFO] Step 4_400: discriminator_loss=0.579590, adversarial_loss=0.976054\n",
      "[INFO] Step 4_425: discriminator_loss=0.587293, adversarial_loss=0.983113\n",
      "[INFO] Step 4_450: discriminator_loss=0.561413, adversarial_loss=0.981402\n",
      "[INFO] Step 4_475: discriminator_loss=0.595799, adversarial_loss=0.656134\n",
      "[INFO] Step 4_500: discriminator_loss=0.577765, adversarial_loss=1.120368\n",
      "[INFO] Step 4_525: discriminator_loss=0.582791, adversarial_loss=0.787902\n",
      "[INFO] Step 4_545: discriminator_loss=0.612488, adversarial_loss=1.054564\n",
      "[INFO] starting epoch 5 of 50...\n",
      "[INFO] Step 5_0: discriminator_loss=0.589217, adversarial_loss=0.790751\n",
      "[INFO] Step 5_25: discriminator_loss=0.581911, adversarial_loss=0.733903\n",
      "[INFO] Step 5_50: discriminator_loss=0.578966, adversarial_loss=1.014259\n",
      "[INFO] Step 5_75: discriminator_loss=0.572013, adversarial_loss=1.028995\n",
      "[INFO] Step 5_100: discriminator_loss=0.571716, adversarial_loss=1.189847\n",
      "[INFO] Step 5_125: discriminator_loss=0.568162, adversarial_loss=1.081711\n",
      "[INFO] Step 5_150: discriminator_loss=0.662091, adversarial_loss=0.618782\n",
      "[INFO] Step 5_175: discriminator_loss=0.598029, adversarial_loss=0.679651\n",
      "[INFO] Step 5_200: discriminator_loss=0.605018, adversarial_loss=0.724722\n",
      "[INFO] Step 5_225: discriminator_loss=0.581544, adversarial_loss=0.969184\n",
      "[INFO] Step 5_250: discriminator_loss=0.566476, adversarial_loss=0.909449\n",
      "[INFO] Step 5_275: discriminator_loss=0.643972, adversarial_loss=0.598926\n",
      "[INFO] Step 5_300: discriminator_loss=0.581583, adversarial_loss=0.738551\n",
      "[INFO] Step 5_325: discriminator_loss=0.567717, adversarial_loss=0.854989\n",
      "[INFO] Step 5_350: discriminator_loss=0.591932, adversarial_loss=1.429186\n",
      "[INFO] Step 5_375: discriminator_loss=0.579283, adversarial_loss=1.162565\n",
      "[INFO] Step 5_400: discriminator_loss=0.608481, adversarial_loss=0.875513\n"
     ]
    },
    {
     "name": "stdout",
     "output_type": "stream",
     "text": [
      "[INFO] Step 5_425: discriminator_loss=0.604155, adversarial_loss=0.859655\n",
      "[INFO] Step 5_450: discriminator_loss=0.582513, adversarial_loss=0.792268\n",
      "[INFO] Step 5_475: discriminator_loss=0.606517, adversarial_loss=1.187435\n",
      "[INFO] Step 5_500: discriminator_loss=0.579715, adversarial_loss=1.042211\n",
      "[INFO] Step 5_525: discriminator_loss=0.602324, adversarial_loss=0.861135\n",
      "[INFO] Step 5_545: discriminator_loss=0.625389, adversarial_loss=0.958833\n",
      "[INFO] starting epoch 6 of 50...\n",
      "[INFO] Step 6_0: discriminator_loss=0.593894, adversarial_loss=0.890013\n",
      "[INFO] Step 6_25: discriminator_loss=0.594222, adversarial_loss=0.763941\n",
      "[INFO] Step 6_50: discriminator_loss=0.599901, adversarial_loss=1.090828\n",
      "[INFO] Step 6_75: discriminator_loss=0.563655, adversarial_loss=1.106184\n",
      "[INFO] Step 6_100: discriminator_loss=0.573153, adversarial_loss=1.128868\n",
      "[INFO] Step 6_125: discriminator_loss=0.590729, adversarial_loss=1.080555\n",
      "[INFO] Step 6_150: discriminator_loss=0.612913, adversarial_loss=1.001954\n",
      "[INFO] Step 6_175: discriminator_loss=0.588081, adversarial_loss=0.749582\n",
      "[INFO] Step 6_200: discriminator_loss=0.596567, adversarial_loss=0.699536\n",
      "[INFO] Step 6_225: discriminator_loss=0.599366, adversarial_loss=0.862548\n",
      "[INFO] Step 6_250: discriminator_loss=0.610541, adversarial_loss=0.791091\n",
      "[INFO] Step 6_275: discriminator_loss=0.600275, adversarial_loss=0.739740\n",
      "[INFO] Step 6_300: discriminator_loss=0.606176, adversarial_loss=0.891319\n",
      "[INFO] Step 6_325: discriminator_loss=0.670901, adversarial_loss=0.706862\n",
      "[INFO] Step 6_350: discriminator_loss=0.668481, adversarial_loss=1.512450\n",
      "[INFO] Step 6_375: discriminator_loss=0.588907, adversarial_loss=1.082990\n",
      "[INFO] Step 6_400: discriminator_loss=0.634566, adversarial_loss=0.619384\n",
      "[INFO] Step 6_425: discriminator_loss=0.601797, adversarial_loss=1.090433\n",
      "[INFO] Step 6_450: discriminator_loss=0.609632, adversarial_loss=0.793838\n",
      "[INFO] Step 6_475: discriminator_loss=0.596289, adversarial_loss=0.695401\n",
      "[INFO] Step 6_500: discriminator_loss=0.602969, adversarial_loss=0.970630\n",
      "[INFO] Step 6_525: discriminator_loss=0.630544, adversarial_loss=1.016657\n",
      "[INFO] Step 6_545: discriminator_loss=0.588602, adversarial_loss=0.789458\n",
      "[INFO] starting epoch 7 of 50...\n",
      "[INFO] Step 7_0: discriminator_loss=0.619447, adversarial_loss=1.123801\n",
      "[INFO] Step 7_25: discriminator_loss=0.593587, adversarial_loss=0.776711\n",
      "[INFO] Step 7_50: discriminator_loss=0.636693, adversarial_loss=0.574599\n",
      "[INFO] Step 7_75: discriminator_loss=0.571957, adversarial_loss=1.035840\n",
      "[INFO] Step 7_100: discriminator_loss=0.585992, adversarial_loss=1.091995\n",
      "[INFO] Step 7_125: discriminator_loss=0.610791, adversarial_loss=0.889783\n",
      "[INFO] Step 7_150: discriminator_loss=0.595709, adversarial_loss=0.852915\n",
      "[INFO] Step 7_175: discriminator_loss=0.595260, adversarial_loss=0.801170\n",
      "[INFO] Step 7_200: discriminator_loss=0.583559, adversarial_loss=0.621573\n",
      "[INFO] Step 7_225: discriminator_loss=0.653836, adversarial_loss=0.597431\n",
      "[INFO] Step 7_250: discriminator_loss=0.601495, adversarial_loss=0.847999\n",
      "[INFO] Step 7_275: discriminator_loss=0.652750, adversarial_loss=0.753443\n",
      "[INFO] Step 7_300: discriminator_loss=0.594500, adversarial_loss=1.098825\n",
      "[INFO] Step 7_325: discriminator_loss=0.604287, adversarial_loss=0.665100\n",
      "[INFO] Step 7_350: discriminator_loss=0.593394, adversarial_loss=1.222028\n",
      "[INFO] Step 7_375: discriminator_loss=0.596846, adversarial_loss=1.154968\n",
      "[INFO] Step 7_400: discriminator_loss=0.630485, adversarial_loss=0.707323\n",
      "[INFO] Step 7_425: discriminator_loss=0.612351, adversarial_loss=0.915022\n",
      "[INFO] Step 7_450: discriminator_loss=0.588367, adversarial_loss=0.830334\n",
      "[INFO] Step 7_475: discriminator_loss=0.582546, adversarial_loss=0.826529\n",
      "[INFO] Step 7_500: discriminator_loss=0.637990, adversarial_loss=0.743676\n",
      "[INFO] Step 7_525: discriminator_loss=0.623646, adversarial_loss=1.057688\n",
      "[INFO] Step 7_545: discriminator_loss=0.588523, adversarial_loss=0.827944\n",
      "[INFO] starting epoch 8 of 50...\n",
      "[INFO] Step 8_0: discriminator_loss=0.617046, adversarial_loss=0.989301\n",
      "[INFO] Step 8_25: discriminator_loss=0.573051, adversarial_loss=0.721469\n",
      "[INFO] Step 8_50: discriminator_loss=0.627634, adversarial_loss=0.891518\n",
      "[INFO] Step 8_75: discriminator_loss=0.666552, adversarial_loss=1.447092\n",
      "[INFO] Step 8_100: discriminator_loss=0.612044, adversarial_loss=1.174811\n",
      "[INFO] Step 8_125: discriminator_loss=0.570054, adversarial_loss=0.945517\n",
      "[INFO] Step 8_150: discriminator_loss=0.633098, adversarial_loss=0.885821\n",
      "[INFO] Step 8_175: discriminator_loss=0.633366, adversarial_loss=0.883628\n",
      "[INFO] Step 8_200: discriminator_loss=0.638117, adversarial_loss=0.632332\n",
      "[INFO] Step 8_225: discriminator_loss=0.627156, adversarial_loss=0.816352\n",
      "[INFO] Step 8_250: discriminator_loss=0.622217, adversarial_loss=1.188053\n",
      "[INFO] Step 8_275: discriminator_loss=0.677568, adversarial_loss=0.676152\n",
      "[INFO] Step 8_300: discriminator_loss=0.610846, adversarial_loss=0.670384\n",
      "[INFO] Step 8_325: discriminator_loss=0.609547, adversarial_loss=0.914198\n",
      "[INFO] Step 8_350: discriminator_loss=0.573483, adversarial_loss=0.780806\n",
      "[INFO] Step 8_375: discriminator_loss=0.588314, adversarial_loss=0.937199\n",
      "[INFO] Step 8_400: discriminator_loss=0.610956, adversarial_loss=0.731854\n",
      "[INFO] Step 8_425: discriminator_loss=0.655528, adversarial_loss=1.140200\n",
      "[INFO] Step 8_450: discriminator_loss=0.595570, adversarial_loss=0.931713\n",
      "[INFO] Step 8_475: discriminator_loss=0.638150, adversarial_loss=0.906113\n",
      "[INFO] Step 8_500: discriminator_loss=0.661956, adversarial_loss=1.189377\n",
      "[INFO] Step 8_525: discriminator_loss=0.635520, adversarial_loss=0.926043\n",
      "[INFO] Step 8_545: discriminator_loss=0.605245, adversarial_loss=0.789310\n",
      "[INFO] starting epoch 9 of 50...\n",
      "[INFO] Step 9_0: discriminator_loss=0.620766, adversarial_loss=0.989642\n",
      "[INFO] Step 9_25: discriminator_loss=0.653118, adversarial_loss=0.633634\n",
      "[INFO] Step 9_50: discriminator_loss=0.640531, adversarial_loss=0.913874\n",
      "[INFO] Step 9_75: discriminator_loss=0.591256, adversarial_loss=0.915680\n",
      "[INFO] Step 9_100: discriminator_loss=0.621877, adversarial_loss=1.190968\n",
      "[INFO] Step 9_125: discriminator_loss=0.600818, adversarial_loss=0.811433\n",
      "[INFO] Step 9_150: discriminator_loss=0.631131, adversarial_loss=1.041462\n",
      "[INFO] Step 9_175: discriminator_loss=0.618191, adversarial_loss=0.969457\n",
      "[INFO] Step 9_200: discriminator_loss=0.561320, adversarial_loss=0.781160\n",
      "[INFO] Step 9_225: discriminator_loss=0.611509, adversarial_loss=0.907755\n",
      "[INFO] Step 9_250: discriminator_loss=0.593751, adversarial_loss=0.919871\n",
      "[INFO] Step 9_275: discriminator_loss=0.654000, adversarial_loss=0.675739\n",
      "[INFO] Step 9_300: discriminator_loss=0.589505, adversarial_loss=0.934231\n",
      "[INFO] Step 9_325: discriminator_loss=0.612482, adversarial_loss=0.833273\n",
      "[INFO] Step 9_350: discriminator_loss=0.658019, adversarial_loss=1.289780\n",
      "[INFO] Step 9_375: discriminator_loss=0.598406, adversarial_loss=0.957657\n",
      "[INFO] Step 9_400: discriminator_loss=0.644306, adversarial_loss=0.979115\n",
      "[INFO] Step 9_425: discriminator_loss=0.617305, adversarial_loss=0.966642\n",
      "[INFO] Step 9_450: discriminator_loss=0.607077, adversarial_loss=1.061896\n",
      "[INFO] Step 9_475: discriminator_loss=0.634696, adversarial_loss=0.753001\n",
      "[INFO] Step 9_500: discriminator_loss=0.617594, adversarial_loss=0.749515\n",
      "[INFO] Step 9_525: discriminator_loss=0.623829, adversarial_loss=0.777677\n",
      "[INFO] Step 9_545: discriminator_loss=0.635839, adversarial_loss=0.903669\n",
      "[INFO] starting epoch 10 of 50...\n",
      "[INFO] Step 10_0: discriminator_loss=0.621477, adversarial_loss=0.901731\n",
      "[INFO] Step 10_25: discriminator_loss=0.616549, adversarial_loss=0.694084\n",
      "[INFO] Step 10_50: discriminator_loss=0.682207, adversarial_loss=1.258339\n",
      "[INFO] Step 10_75: discriminator_loss=0.602260, adversarial_loss=0.862221\n",
      "[INFO] Step 10_100: discriminator_loss=0.623346, adversarial_loss=1.124408\n",
      "[INFO] Step 10_125: discriminator_loss=0.615727, adversarial_loss=1.003145\n",
      "[INFO] Step 10_150: discriminator_loss=0.634066, adversarial_loss=0.960074\n",
      "[INFO] Step 10_175: discriminator_loss=0.639362, adversarial_loss=0.792533\n",
      "[INFO] Step 10_200: discriminator_loss=0.573560, adversarial_loss=0.644335\n",
      "[INFO] Step 10_225: discriminator_loss=0.611201, adversarial_loss=0.853100\n",
      "[INFO] Step 10_250: discriminator_loss=0.631383, adversarial_loss=1.084986\n"
     ]
    },
    {
     "name": "stdout",
     "output_type": "stream",
     "text": [
      "[INFO] Step 10_275: discriminator_loss=0.606969, adversarial_loss=0.688335\n",
      "[INFO] Step 10_300: discriminator_loss=0.618077, adversarial_loss=0.993620\n",
      "[INFO] Step 10_325: discriminator_loss=0.616919, adversarial_loss=0.864476\n",
      "[INFO] Step 10_350: discriminator_loss=0.584936, adversarial_loss=0.975852\n",
      "[INFO] Step 10_375: discriminator_loss=0.639566, adversarial_loss=1.192515\n",
      "[INFO] Step 10_400: discriminator_loss=0.639463, adversarial_loss=0.738843\n",
      "[INFO] Step 10_425: discriminator_loss=0.627759, adversarial_loss=0.972014\n",
      "[INFO] Step 10_450: discriminator_loss=0.593631, adversarial_loss=0.852903\n",
      "[INFO] Step 10_475: discriminator_loss=0.662817, adversarial_loss=0.592883\n",
      "[INFO] Step 10_500: discriminator_loss=0.593388, adversarial_loss=0.790583\n",
      "[INFO] Step 10_525: discriminator_loss=0.624774, adversarial_loss=0.648338\n",
      "[INFO] Step 10_545: discriminator_loss=0.606713, adversarial_loss=0.974958\n",
      "[INFO] starting epoch 11 of 50...\n",
      "[INFO] Step 11_0: discriminator_loss=0.614073, adversarial_loss=0.767931\n",
      "[INFO] Step 11_100: discriminator_loss=0.627225, adversarial_loss=1.152769\n",
      "[INFO] Step 11_200: discriminator_loss=0.600758, adversarial_loss=0.884217\n",
      "[INFO] Step 11_300: discriminator_loss=0.622640, adversarial_loss=0.970645\n",
      "[INFO] Step 11_400: discriminator_loss=0.639850, adversarial_loss=0.997815\n",
      "[INFO] Step 11_500: discriminator_loss=0.616659, adversarial_loss=0.954710\n",
      "[INFO] Step 11_545: discriminator_loss=0.603277, adversarial_loss=0.829537\n",
      "[INFO] starting epoch 12 of 50...\n",
      "[INFO] Step 12_0: discriminator_loss=0.585613, adversarial_loss=0.813753\n",
      "[INFO] Step 12_100: discriminator_loss=0.598377, adversarial_loss=0.745074\n",
      "[INFO] Step 12_200: discriminator_loss=0.595754, adversarial_loss=0.880805\n",
      "[INFO] Step 12_300: discriminator_loss=0.634334, adversarial_loss=0.743839\n",
      "[INFO] Step 12_400: discriminator_loss=0.633985, adversarial_loss=0.557765\n",
      "[INFO] Step 12_500: discriminator_loss=0.597304, adversarial_loss=0.930949\n",
      "[INFO] Step 12_545: discriminator_loss=0.604672, adversarial_loss=0.848080\n",
      "[INFO] starting epoch 13 of 50...\n",
      "[INFO] Step 13_0: discriminator_loss=0.632421, adversarial_loss=1.041749\n",
      "[INFO] Step 13_100: discriminator_loss=0.598876, adversarial_loss=0.967194\n",
      "[INFO] Step 13_200: discriminator_loss=0.601203, adversarial_loss=1.189946\n",
      "[INFO] Step 13_300: discriminator_loss=0.615711, adversarial_loss=0.862363\n",
      "[INFO] Step 13_400: discriminator_loss=0.636906, adversarial_loss=0.808587\n",
      "[INFO] Step 13_500: discriminator_loss=0.610968, adversarial_loss=0.906101\n",
      "[INFO] Step 13_545: discriminator_loss=0.605421, adversarial_loss=0.853945\n",
      "[INFO] starting epoch 14 of 50...\n",
      "[INFO] Step 14_0: discriminator_loss=0.597123, adversarial_loss=0.863908\n",
      "[INFO] Step 14_100: discriminator_loss=0.617075, adversarial_loss=0.861607\n",
      "[INFO] Step 14_200: discriminator_loss=0.595024, adversarial_loss=0.913037\n",
      "[INFO] Step 14_300: discriminator_loss=0.609403, adversarial_loss=0.884234\n",
      "[INFO] Step 14_400: discriminator_loss=0.651802, adversarial_loss=0.786076\n",
      "[INFO] Step 14_500: discriminator_loss=0.587798, adversarial_loss=0.829012\n",
      "[INFO] Step 14_545: discriminator_loss=0.588587, adversarial_loss=0.867211\n",
      "[INFO] starting epoch 15 of 50...\n",
      "[INFO] Step 15_0: discriminator_loss=0.616781, adversarial_loss=1.043424\n",
      "[INFO] Step 15_100: discriminator_loss=0.611855, adversarial_loss=1.070220\n",
      "[INFO] Step 15_200: discriminator_loss=0.594051, adversarial_loss=0.939476\n",
      "[INFO] Step 15_300: discriminator_loss=0.607190, adversarial_loss=0.707716\n",
      "[INFO] Step 15_400: discriminator_loss=0.641861, adversarial_loss=0.753781\n",
      "[INFO] Step 15_500: discriminator_loss=0.625393, adversarial_loss=0.885047\n",
      "[INFO] Step 15_545: discriminator_loss=0.597749, adversarial_loss=0.951808\n",
      "[INFO] starting epoch 16 of 50...\n",
      "[INFO] Step 16_0: discriminator_loss=0.599294, adversarial_loss=0.845916\n",
      "[INFO] Step 16_100: discriminator_loss=0.588053, adversarial_loss=0.918817\n",
      "[INFO] Step 16_200: discriminator_loss=0.576810, adversarial_loss=1.002626\n",
      "[INFO] Step 16_300: discriminator_loss=0.608377, adversarial_loss=0.733626\n",
      "[INFO] Step 16_400: discriminator_loss=0.632652, adversarial_loss=0.629785\n",
      "[INFO] Step 16_500: discriminator_loss=0.591406, adversarial_loss=0.834767\n",
      "[INFO] Step 16_545: discriminator_loss=0.613142, adversarial_loss=0.948766\n",
      "[INFO] starting epoch 17 of 50...\n",
      "[INFO] Step 17_0: discriminator_loss=0.607424, adversarial_loss=0.881386\n",
      "[INFO] Step 17_100: discriminator_loss=0.607692, adversarial_loss=1.009205\n",
      "[INFO] Step 17_200: discriminator_loss=0.607751, adversarial_loss=1.027790\n",
      "[INFO] Step 17_300: discriminator_loss=0.622826, adversarial_loss=1.050327\n",
      "[INFO] Step 17_400: discriminator_loss=0.628489, adversarial_loss=0.684550\n",
      "[INFO] Step 17_500: discriminator_loss=0.592794, adversarial_loss=0.726627\n",
      "[INFO] Step 17_545: discriminator_loss=0.592602, adversarial_loss=0.773696\n",
      "[INFO] starting epoch 18 of 50...\n",
      "[INFO] Step 18_0: discriminator_loss=0.579437, adversarial_loss=0.992767\n",
      "[INFO] Step 18_100: discriminator_loss=0.593522, adversarial_loss=1.154057\n",
      "[INFO] Step 18_200: discriminator_loss=0.604756, adversarial_loss=1.160300\n",
      "[INFO] Step 18_300: discriminator_loss=0.616199, adversarial_loss=1.035805\n",
      "[INFO] Step 18_400: discriminator_loss=0.611029, adversarial_loss=0.772153\n",
      "[INFO] Step 18_500: discriminator_loss=0.610270, adversarial_loss=0.956593\n",
      "[INFO] Step 18_545: discriminator_loss=0.605523, adversarial_loss=1.044085\n",
      "[INFO] starting epoch 19 of 50...\n",
      "[INFO] Step 19_0: discriminator_loss=0.575774, adversarial_loss=0.822023\n",
      "[INFO] Step 19_100: discriminator_loss=0.564807, adversarial_loss=0.939105\n",
      "[INFO] Step 19_200: discriminator_loss=0.584820, adversarial_loss=0.869950\n",
      "[INFO] Step 19_300: discriminator_loss=0.606116, adversarial_loss=0.922048\n",
      "[INFO] Step 19_400: discriminator_loss=0.627928, adversarial_loss=0.712670\n",
      "[INFO] Step 19_500: discriminator_loss=0.621273, adversarial_loss=0.805106\n",
      "[INFO] Step 19_545: discriminator_loss=0.593331, adversarial_loss=0.785208\n",
      "[INFO] starting epoch 20 of 50...\n",
      "[INFO] Step 20_0: discriminator_loss=0.593674, adversarial_loss=1.096092\n",
      "[INFO] Step 20_100: discriminator_loss=0.560933, adversarial_loss=1.076449\n",
      "[INFO] Step 20_200: discriminator_loss=0.595062, adversarial_loss=0.792432\n",
      "[INFO] Step 20_300: discriminator_loss=0.618198, adversarial_loss=0.725057\n",
      "[INFO] Step 20_400: discriminator_loss=0.637160, adversarial_loss=0.891677\n",
      "[INFO] Step 20_500: discriminator_loss=0.594926, adversarial_loss=0.955964\n",
      "[INFO] Step 20_545: discriminator_loss=0.574372, adversarial_loss=0.840031\n",
      "[INFO] starting epoch 21 of 50...\n",
      "[INFO] Step 21_0: discriminator_loss=0.624292, adversarial_loss=0.989814\n",
      "[INFO] Step 21_100: discriminator_loss=0.618031, adversarial_loss=1.011910\n",
      "[INFO] Step 21_200: discriminator_loss=0.563054, adversarial_loss=0.860224\n",
      "[INFO] Step 21_300: discriminator_loss=0.615349, adversarial_loss=0.954397\n",
      "[INFO] Step 21_400: discriminator_loss=0.632640, adversarial_loss=0.831215\n",
      "[INFO] Step 21_500: discriminator_loss=0.588239, adversarial_loss=0.964535\n",
      "[INFO] Step 21_545: discriminator_loss=0.595394, adversarial_loss=0.827569\n",
      "[INFO] starting epoch 22 of 50...\n",
      "[INFO] Step 22_0: discriminator_loss=0.606622, adversarial_loss=0.942197\n",
      "[INFO] Step 22_100: discriminator_loss=0.640851, adversarial_loss=1.392385\n",
      "[INFO] Step 22_200: discriminator_loss=0.577404, adversarial_loss=0.955797\n",
      "[INFO] Step 22_300: discriminator_loss=0.568982, adversarial_loss=0.896931\n",
      "[INFO] Step 22_400: discriminator_loss=0.610363, adversarial_loss=0.900583\n",
      "[INFO] Step 22_500: discriminator_loss=0.590928, adversarial_loss=0.965160\n",
      "[INFO] Step 22_545: discriminator_loss=0.611238, adversarial_loss=0.641123\n",
      "[INFO] starting epoch 23 of 50...\n",
      "[INFO] Step 23_0: discriminator_loss=0.601009, adversarial_loss=1.137619\n",
      "[INFO] Step 23_100: discriminator_loss=0.604578, adversarial_loss=1.360308\n",
      "[INFO] Step 23_200: discriminator_loss=0.589766, adversarial_loss=0.967200\n",
      "[INFO] Step 23_300: discriminator_loss=0.571759, adversarial_loss=0.842330\n",
      "[INFO] Step 23_400: discriminator_loss=0.614228, adversarial_loss=0.949020\n",
      "[INFO] Step 23_500: discriminator_loss=0.598923, adversarial_loss=0.947624\n",
      "[INFO] Step 23_545: discriminator_loss=0.592064, adversarial_loss=0.972979\n",
      "[INFO] starting epoch 24 of 50...\n",
      "[INFO] Step 24_0: discriminator_loss=0.598696, adversarial_loss=0.840949\n"
     ]
    },
    {
     "name": "stdout",
     "output_type": "stream",
     "text": [
      "[INFO] Step 24_100: discriminator_loss=0.637182, adversarial_loss=1.080103\n",
      "[INFO] Step 24_200: discriminator_loss=0.573014, adversarial_loss=1.110240\n",
      "[INFO] Step 24_300: discriminator_loss=0.587665, adversarial_loss=1.115744\n",
      "[INFO] Step 24_400: discriminator_loss=0.633474, adversarial_loss=0.761960\n",
      "[INFO] Step 24_500: discriminator_loss=0.617607, adversarial_loss=0.866088\n",
      "[INFO] Step 24_545: discriminator_loss=0.571701, adversarial_loss=0.829364\n",
      "[INFO] starting epoch 25 of 50...\n",
      "[INFO] Step 25_0: discriminator_loss=0.606977, adversarial_loss=1.061254\n",
      "[INFO] Step 25_100: discriminator_loss=0.600457, adversarial_loss=1.095674\n",
      "[INFO] Step 25_200: discriminator_loss=0.608500, adversarial_loss=1.156889\n",
      "[INFO] Step 25_300: discriminator_loss=0.581861, adversarial_loss=0.761468\n",
      "[INFO] Step 25_400: discriminator_loss=0.583110, adversarial_loss=0.733467\n",
      "[INFO] Step 25_500: discriminator_loss=0.605846, adversarial_loss=0.722403\n",
      "[INFO] Step 25_545: discriminator_loss=0.561037, adversarial_loss=0.945831\n",
      "[INFO] starting epoch 26 of 50...\n",
      "[INFO] Step 26_0: discriminator_loss=0.570782, adversarial_loss=1.043546\n",
      "[INFO] Step 26_100: discriminator_loss=0.558672, adversarial_loss=1.141803\n",
      "[INFO] Step 26_200: discriminator_loss=0.585723, adversarial_loss=1.136173\n",
      "[INFO] Step 26_300: discriminator_loss=0.610237, adversarial_loss=1.001306\n",
      "[INFO] Step 26_400: discriminator_loss=0.624266, adversarial_loss=1.010321\n",
      "[INFO] Step 26_500: discriminator_loss=0.541583, adversarial_loss=0.780368\n",
      "[INFO] Step 26_545: discriminator_loss=0.551895, adversarial_loss=0.787411\n",
      "[INFO] starting epoch 27 of 50...\n",
      "[INFO] Step 27_0: discriminator_loss=0.571953, adversarial_loss=1.039738\n",
      "[INFO] Step 27_100: discriminator_loss=0.566378, adversarial_loss=1.253992\n",
      "[INFO] Step 27_200: discriminator_loss=0.553746, adversarial_loss=1.121675\n",
      "[INFO] Step 27_300: discriminator_loss=0.572420, adversarial_loss=0.900800\n",
      "[INFO] Step 27_400: discriminator_loss=0.619198, adversarial_loss=0.911607\n",
      "[INFO] Step 27_500: discriminator_loss=0.577444, adversarial_loss=0.921597\n",
      "[INFO] Step 27_545: discriminator_loss=0.557039, adversarial_loss=0.911052\n",
      "[INFO] starting epoch 28 of 50...\n",
      "[INFO] Step 28_0: discriminator_loss=0.597947, adversarial_loss=1.064626\n",
      "[INFO] Step 28_100: discriminator_loss=0.615360, adversarial_loss=1.186662\n",
      "[INFO] Step 28_200: discriminator_loss=0.572440, adversarial_loss=0.931689\n",
      "[INFO] Step 28_300: discriminator_loss=0.585633, adversarial_loss=1.153253\n",
      "[INFO] Step 28_400: discriminator_loss=0.610153, adversarial_loss=1.095081\n",
      "[INFO] Step 28_500: discriminator_loss=0.579707, adversarial_loss=1.182256\n",
      "[INFO] Step 28_545: discriminator_loss=0.543581, adversarial_loss=1.057762\n",
      "[INFO] starting epoch 29 of 50...\n",
      "[INFO] Step 29_0: discriminator_loss=0.555912, adversarial_loss=1.016768\n",
      "[INFO] Step 29_100: discriminator_loss=0.645759, adversarial_loss=1.463068\n",
      "[INFO] Step 29_200: discriminator_loss=0.535471, adversarial_loss=0.807136\n",
      "[INFO] Step 29_300: discriminator_loss=0.602192, adversarial_loss=0.905220\n",
      "[INFO] Step 29_400: discriminator_loss=0.577874, adversarial_loss=1.239238\n",
      "[INFO] Step 29_500: discriminator_loss=0.611292, adversarial_loss=0.872165\n",
      "[INFO] Step 29_545: discriminator_loss=0.566824, adversarial_loss=1.060420\n",
      "[INFO] starting epoch 30 of 50...\n",
      "[INFO] Step 30_0: discriminator_loss=0.577334, adversarial_loss=0.899711\n",
      "[INFO] Step 30_100: discriminator_loss=0.598968, adversarial_loss=1.276309\n",
      "[INFO] Step 30_200: discriminator_loss=0.566983, adversarial_loss=1.068653\n",
      "[INFO] Step 30_300: discriminator_loss=0.593896, adversarial_loss=0.848596\n",
      "[INFO] Step 30_400: discriminator_loss=0.608114, adversarial_loss=1.072072\n",
      "[INFO] Step 30_500: discriminator_loss=0.584805, adversarial_loss=0.747805\n",
      "[INFO] Step 30_545: discriminator_loss=0.552000, adversarial_loss=1.104576\n",
      "[INFO] starting epoch 31 of 50...\n",
      "[INFO] Step 31_0: discriminator_loss=0.578810, adversarial_loss=0.866106\n",
      "[INFO] Step 31_100: discriminator_loss=0.572974, adversarial_loss=1.128800\n",
      "[INFO] Step 31_200: discriminator_loss=0.536639, adversarial_loss=1.023355\n",
      "[INFO] Step 31_300: discriminator_loss=0.578437, adversarial_loss=0.878620\n",
      "[INFO] Step 31_400: discriminator_loss=0.581877, adversarial_loss=0.892161\n",
      "[INFO] Step 31_500: discriminator_loss=0.577793, adversarial_loss=0.925566\n",
      "[INFO] Step 31_545: discriminator_loss=0.566150, adversarial_loss=1.016924\n",
      "[INFO] starting epoch 32 of 50...\n",
      "[INFO] Step 32_0: discriminator_loss=0.552459, adversarial_loss=0.792860\n",
      "[INFO] Step 32_100: discriminator_loss=0.548686, adversarial_loss=1.218091\n",
      "[INFO] Step 32_200: discriminator_loss=0.542384, adversarial_loss=1.101836\n",
      "[INFO] Step 32_300: discriminator_loss=0.550826, adversarial_loss=0.942842\n",
      "[INFO] Step 32_400: discriminator_loss=0.609655, adversarial_loss=0.887673\n",
      "[INFO] Step 32_500: discriminator_loss=0.601578, adversarial_loss=0.846420\n",
      "[INFO] Step 32_545: discriminator_loss=0.543128, adversarial_loss=1.048400\n",
      "[INFO] starting epoch 33 of 50...\n",
      "[INFO] Step 33_0: discriminator_loss=0.564431, adversarial_loss=0.970606\n",
      "[INFO] Step 33_100: discriminator_loss=0.587765, adversarial_loss=1.439964\n",
      "[INFO] Step 33_200: discriminator_loss=0.523950, adversarial_loss=1.030773\n",
      "[INFO] Step 33_300: discriminator_loss=0.551548, adversarial_loss=1.087791\n",
      "[INFO] Step 33_400: discriminator_loss=0.590613, adversarial_loss=0.909491\n",
      "[INFO] Step 33_500: discriminator_loss=0.548384, adversarial_loss=1.157801\n",
      "[INFO] Step 33_545: discriminator_loss=0.529846, adversarial_loss=0.953619\n",
      "[INFO] starting epoch 34 of 50...\n",
      "[INFO] Step 34_0: discriminator_loss=0.573440, adversarial_loss=1.134709\n",
      "[INFO] Step 34_100: discriminator_loss=0.565341, adversarial_loss=1.198259\n",
      "[INFO] Step 34_200: discriminator_loss=0.554126, adversarial_loss=1.138481\n",
      "[INFO] Step 34_300: discriminator_loss=0.567464, adversarial_loss=0.882711\n",
      "[INFO] Step 34_400: discriminator_loss=0.585471, adversarial_loss=1.200788\n",
      "[INFO] Step 34_500: discriminator_loss=0.571328, adversarial_loss=1.082404\n",
      "[INFO] Step 34_545: discriminator_loss=0.560580, adversarial_loss=1.091634\n",
      "[INFO] starting epoch 35 of 50...\n",
      "[INFO] Step 35_0: discriminator_loss=0.553727, adversarial_loss=1.095671\n",
      "[INFO] Step 35_100: discriminator_loss=0.579676, adversarial_loss=1.383905\n",
      "[INFO] Step 35_200: discriminator_loss=0.517984, adversarial_loss=0.944561\n",
      "[INFO] Step 35_300: discriminator_loss=0.543599, adversarial_loss=1.088403\n",
      "[INFO] Step 35_400: discriminator_loss=0.603726, adversarial_loss=1.214416\n",
      "[INFO] Step 35_500: discriminator_loss=0.608188, adversarial_loss=0.813997\n",
      "[INFO] Step 35_545: discriminator_loss=0.534614, adversarial_loss=1.059269\n",
      "[INFO] starting epoch 36 of 50...\n",
      "[INFO] Step 36_0: discriminator_loss=0.547831, adversarial_loss=1.183886\n",
      "[INFO] Step 36_100: discriminator_loss=0.625824, adversarial_loss=1.613803\n",
      "[INFO] Step 36_200: discriminator_loss=0.511987, adversarial_loss=1.268395\n",
      "[INFO] Step 36_300: discriminator_loss=0.558087, adversarial_loss=1.093534\n",
      "[INFO] Step 36_400: discriminator_loss=0.556280, adversarial_loss=0.725555\n",
      "[INFO] Step 36_500: discriminator_loss=0.561822, adversarial_loss=1.193468\n",
      "[INFO] Step 36_545: discriminator_loss=0.549796, adversarial_loss=1.192486\n",
      "[INFO] starting epoch 37 of 50...\n",
      "[INFO] Step 37_0: discriminator_loss=0.527983, adversarial_loss=0.935859\n",
      "[INFO] Step 37_100: discriminator_loss=0.565712, adversarial_loss=1.409466\n",
      "[INFO] Step 37_200: discriminator_loss=0.521197, adversarial_loss=0.968668\n",
      "[INFO] Step 37_300: discriminator_loss=0.537959, adversarial_loss=0.941746\n",
      "[INFO] Step 37_400: discriminator_loss=0.567613, adversarial_loss=0.898405\n",
      "[INFO] Step 37_500: discriminator_loss=0.522732, adversarial_loss=0.744745\n",
      "[INFO] Step 37_545: discriminator_loss=0.518830, adversarial_loss=1.010519\n",
      "[INFO] starting epoch 38 of 50...\n",
      "[INFO] Step 38_0: discriminator_loss=0.557607, adversarial_loss=1.086348\n",
      "[INFO] Step 38_100: discriminator_loss=0.564799, adversarial_loss=1.352367\n",
      "[INFO] Step 38_200: discriminator_loss=0.534419, adversarial_loss=1.008587\n",
      "[INFO] Step 38_300: discriminator_loss=0.531019, adversarial_loss=0.970074\n",
      "[INFO] Step 38_400: discriminator_loss=0.554613, adversarial_loss=1.056561\n",
      "[INFO] Step 38_500: discriminator_loss=0.586061, adversarial_loss=0.896439\n",
      "[INFO] Step 38_545: discriminator_loss=0.545580, adversarial_loss=1.211012\n"
     ]
    },
    {
     "name": "stdout",
     "output_type": "stream",
     "text": [
      "[INFO] starting epoch 39 of 50...\n",
      "[INFO] Step 39_0: discriminator_loss=0.549538, adversarial_loss=0.922231\n",
      "[INFO] Step 39_100: discriminator_loss=0.533823, adversarial_loss=1.347607\n",
      "[INFO] Step 39_200: discriminator_loss=0.558353, adversarial_loss=1.277843\n",
      "[INFO] Step 39_300: discriminator_loss=0.517183, adversarial_loss=0.944617\n",
      "[INFO] Step 39_400: discriminator_loss=0.569209, adversarial_loss=1.089113\n",
      "[INFO] Step 39_500: discriminator_loss=0.563680, adversarial_loss=0.978939\n",
      "[INFO] Step 39_545: discriminator_loss=0.527096, adversarial_loss=1.067444\n",
      "[INFO] starting epoch 40 of 50...\n",
      "[INFO] Step 40_0: discriminator_loss=0.547200, adversarial_loss=1.038602\n",
      "[INFO] Step 40_100: discriminator_loss=0.526621, adversarial_loss=1.323462\n",
      "[INFO] Step 40_200: discriminator_loss=0.535312, adversarial_loss=1.001610\n",
      "[INFO] Step 40_300: discriminator_loss=0.521524, adversarial_loss=1.224245\n",
      "[INFO] Step 40_400: discriminator_loss=0.576231, adversarial_loss=1.040427\n",
      "[INFO] Step 40_500: discriminator_loss=0.537565, adversarial_loss=0.997188\n",
      "[INFO] Step 40_545: discriminator_loss=0.534913, adversarial_loss=1.155012\n",
      "[INFO] starting epoch 41 of 50...\n",
      "[INFO] Step 41_0: discriminator_loss=0.504519, adversarial_loss=1.066228\n",
      "[INFO] Step 41_100: discriminator_loss=0.540727, adversarial_loss=1.108015\n",
      "[INFO] Step 41_200: discriminator_loss=0.506237, adversarial_loss=1.016458\n",
      "[INFO] Step 41_300: discriminator_loss=0.521236, adversarial_loss=1.250841\n",
      "[INFO] Step 41_400: discriminator_loss=0.610250, adversarial_loss=1.511328\n",
      "[INFO] Step 41_500: discriminator_loss=0.549909, adversarial_loss=0.902230\n",
      "[INFO] Step 41_545: discriminator_loss=0.492034, adversarial_loss=1.225370\n",
      "[INFO] starting epoch 42 of 50...\n",
      "[INFO] Step 42_0: discriminator_loss=0.532072, adversarial_loss=0.899579\n",
      "[INFO] Step 42_100: discriminator_loss=0.562378, adversarial_loss=1.622812\n",
      "[INFO] Step 42_200: discriminator_loss=0.530967, adversarial_loss=1.058842\n",
      "[INFO] Step 42_300: discriminator_loss=0.533130, adversarial_loss=0.902664\n",
      "[INFO] Step 42_400: discriminator_loss=0.537644, adversarial_loss=1.164801\n",
      "[INFO] Step 42_500: discriminator_loss=0.551382, adversarial_loss=0.927146\n",
      "[INFO] Step 42_545: discriminator_loss=0.529077, adversarial_loss=1.105394\n",
      "[INFO] starting epoch 43 of 50...\n",
      "[INFO] Step 43_0: discriminator_loss=0.497574, adversarial_loss=0.996531\n",
      "[INFO] Step 43_100: discriminator_loss=0.486642, adversarial_loss=1.295141\n",
      "[INFO] Step 43_200: discriminator_loss=0.518496, adversarial_loss=1.089706\n",
      "[INFO] Step 43_300: discriminator_loss=0.523145, adversarial_loss=1.097935\n",
      "[INFO] Step 43_400: discriminator_loss=0.565235, adversarial_loss=0.939401\n",
      "[INFO] Step 43_500: discriminator_loss=0.553922, adversarial_loss=1.103467\n",
      "[INFO] Step 43_545: discriminator_loss=0.510842, adversarial_loss=1.203085\n",
      "[INFO] starting epoch 44 of 50...\n",
      "[INFO] Step 44_0: discriminator_loss=0.516426, adversarial_loss=0.959339\n",
      "[INFO] Step 44_100: discriminator_loss=0.579294, adversarial_loss=1.760458\n",
      "[INFO] Step 44_200: discriminator_loss=0.526619, adversarial_loss=1.005277\n",
      "[INFO] Step 44_300: discriminator_loss=0.505065, adversarial_loss=0.907438\n",
      "[INFO] Step 44_400: discriminator_loss=0.546764, adversarial_loss=1.181613\n",
      "[INFO] Step 44_500: discriminator_loss=0.519206, adversarial_loss=0.899227\n",
      "[INFO] Step 44_545: discriminator_loss=0.510078, adversarial_loss=1.215044\n",
      "[INFO] starting epoch 45 of 50...\n",
      "[INFO] Step 45_0: discriminator_loss=0.530886, adversarial_loss=1.001813\n",
      "[INFO] Step 45_100: discriminator_loss=0.537336, adversarial_loss=1.290682\n",
      "[INFO] Step 45_200: discriminator_loss=0.517947, adversarial_loss=1.191235\n",
      "[INFO] Step 45_300: discriminator_loss=0.509596, adversarial_loss=1.215504\n",
      "[INFO] Step 45_400: discriminator_loss=0.574702, adversarial_loss=1.065196\n",
      "[INFO] Step 45_500: discriminator_loss=0.535267, adversarial_loss=0.943822\n",
      "[INFO] Step 45_545: discriminator_loss=0.541059, adversarial_loss=1.301469\n",
      "[INFO] starting epoch 46 of 50...\n",
      "[INFO] Step 46_0: discriminator_loss=0.521498, adversarial_loss=1.023575\n",
      "[INFO] Step 46_100: discriminator_loss=0.506213, adversarial_loss=1.277416\n",
      "[INFO] Step 46_200: discriminator_loss=0.497265, adversarial_loss=1.317369\n",
      "[INFO] Step 46_300: discriminator_loss=0.537704, adversarial_loss=1.337496\n",
      "[INFO] Step 46_400: discriminator_loss=0.573238, adversarial_loss=1.035852\n",
      "[INFO] Step 46_500: discriminator_loss=0.592090, adversarial_loss=0.915244\n",
      "[INFO] Step 46_545: discriminator_loss=0.483076, adversarial_loss=1.127667\n",
      "[INFO] starting epoch 47 of 50...\n",
      "[INFO] Step 47_0: discriminator_loss=0.489505, adversarial_loss=1.096375\n",
      "[INFO] Step 47_100: discriminator_loss=0.530141, adversarial_loss=1.385141\n",
      "[INFO] Step 47_200: discriminator_loss=0.502626, adversarial_loss=1.067483\n",
      "[INFO] Step 47_300: discriminator_loss=0.508738, adversarial_loss=1.127333\n",
      "[INFO] Step 47_400: discriminator_loss=0.552534, adversarial_loss=1.338372\n",
      "[INFO] Step 47_500: discriminator_loss=0.533991, adversarial_loss=0.870303\n",
      "[INFO] Step 47_545: discriminator_loss=0.486705, adversarial_loss=0.980775\n",
      "[INFO] starting epoch 48 of 50...\n",
      "[INFO] Step 48_0: discriminator_loss=0.523060, adversarial_loss=1.350958\n",
      "[INFO] Step 48_100: discriminator_loss=0.554480, adversarial_loss=1.630059\n",
      "[INFO] Step 48_200: discriminator_loss=0.493230, adversarial_loss=1.253483\n",
      "[INFO] Step 48_300: discriminator_loss=0.557063, adversarial_loss=1.313677\n",
      "[INFO] Step 48_400: discriminator_loss=0.558906, adversarial_loss=1.244317\n",
      "[INFO] Step 48_500: discriminator_loss=0.508952, adversarial_loss=0.886694\n",
      "[INFO] Step 48_545: discriminator_loss=0.512136, adversarial_loss=1.312699\n",
      "[INFO] starting epoch 49 of 50...\n",
      "[INFO] Step 49_0: discriminator_loss=0.501314, adversarial_loss=1.050279\n",
      "[INFO] Step 49_100: discriminator_loss=0.540925, adversarial_loss=1.732424\n",
      "[INFO] Step 49_200: discriminator_loss=0.484199, adversarial_loss=0.800223\n",
      "[INFO] Step 49_300: discriminator_loss=0.508398, adversarial_loss=1.189007\n",
      "[INFO] Step 49_400: discriminator_loss=0.567016, adversarial_loss=1.273071\n",
      "[INFO] Step 49_500: discriminator_loss=0.553230, adversarial_loss=1.097886\n",
      "[INFO] Step 49_545: discriminator_loss=0.484436, adversarial_loss=1.089561\n",
      "[INFO] starting epoch 50 of 50...\n",
      "[INFO] Step 50_0: discriminator_loss=0.537260, adversarial_loss=1.296686\n",
      "[INFO] Step 50_100: discriminator_loss=0.508066, adversarial_loss=1.381374\n",
      "[INFO] Step 50_200: discriminator_loss=0.513993, adversarial_loss=1.348672\n",
      "[INFO] Step 50_300: discriminator_loss=0.492325, adversarial_loss=1.038017\n",
      "[INFO] Step 50_400: discriminator_loss=0.557141, adversarial_loss=1.400753\n",
      "[INFO] Step 50_500: discriminator_loss=0.535967, adversarial_loss=1.046510\n",
      "[INFO] Step 50_545: discriminator_loss=0.507329, adversarial_loss=1.382469\n"
     ]
    }
   ],
   "source": [
    "# randomly generate some benchmark noise so we can consistently\n",
    "# visualize how the generative modeling is learning\n",
    "print(\"[INFO] starting training...\")\n",
    "benchmarkNoise = np.random.uniform(-1, 1, size=(256, 100))\n",
    "#benchmarkNoise is generated from a uniform distribution in the range [-1, 1], the same range as our tanh activation function\n",
    "#size(256,100) indicates that we'll be generating 256 synthetic images, where each input starts as a 100-d vector\n",
    "\n",
    "# loop over the epochs\n",
    "for epoch in range(0, NUM_EPOCHS):\n",
    "\t# show epoch information and compute the number of batches per\n",
    "\t# epoch\n",
    "\tprint(\"[INFO] starting epoch {} of {}...\".format(epoch + 1,\n",
    "\t\tNUM_EPOCHS))\n",
    "\tbatchesPerEpoch = int(trainImages.shape[0] / BATCH_SIZE)\n",
    "\n",
    "\t# loop over the batches\n",
    "\tfor i in range(0, batchesPerEpoch):\n",
    "\t\t# initialize an (empty) output path\n",
    "\t\tp = None\n",
    "\n",
    "\t\t# select the next batch of images, then randomly generate\n",
    "\t\t# noise for the generator to predict on\n",
    "\t\timageBatch = trainImages[i * BATCH_SIZE:(i + 1) * BATCH_SIZE]\n",
    "\t\tnoise = np.random.uniform(-1, 1, size=(BATCH_SIZE, 100))\n",
    "\n",
    "\t\t# generate images using the noise + generator model\n",
    "\t\tgenImages = gen.predict(noise, verbose=0)\n",
    "\n",
    "\t\t# concatenate the *actual* images and the *generated* images,\n",
    "\t\t# construct class labels for the discriminator, and shuffle\n",
    "\t\t# the data\n",
    "\t\tX = np.concatenate((imageBatch, genImages))\n",
    "\t\ty = ([1] * BATCH_SIZE) + ([0] * BATCH_SIZE)\n",
    "\t\ty = np.reshape(y, (-1,))\n",
    "\t\t(X, y) = shuffle(X, y)\n",
    "\n",
    "\t\t# train the discriminator on the data\n",
    "\t\tdiscLoss = disc.train_on_batch(X, y)\n",
    "  \n",
    "\t\t# let's now train our generator via the adversarial model by\n",
    "\t\t# (1) generating random noise and (2) training the generator\n",
    "\t\t# with the discriminator weights frozen\n",
    "\t\tnoise = np.random.uniform(-1, 1, (BATCH_SIZE, 100))\n",
    "\t\tfakeLabels = [1] * BATCH_SIZE\n",
    "\t\tfakeLabels = np.reshape(fakeLabels, (-1,))\n",
    "\t\tganLoss = gan.train_on_batch(noise, fakeLabels)\n",
    "\n",
    "\t\t# check to see if this is the end of an epoch, and if so,\n",
    "\t\t# initialize the output path\n",
    "\t\tif i == batchesPerEpoch - 1:\n",
    "\t\t\tp = [args[\"output\"], \"epoch_{}_output.png\".format(\n",
    "\t\t\t\tstr(epoch + 1).zfill(4))]\n",
    "\n",
    "\t\t# otherwise, check to see if we should visualize the current\n",
    "\t\t# batch for the epoch\n",
    "\t\telse:\n",
    "\t\t\t# create more visualizations early in the training\n",
    "\t\t\t# process\n",
    "\t\t\tif epoch < 10 and i % 25 == 0:\n",
    "\t\t\t\tp = [args[\"output\"], \"epoch_{}_step_{}.png\".format(\n",
    "\t\t\t\t\tstr(epoch + 1).zfill(4), str(i).zfill(5))]\n",
    "\n",
    "\t\t\t# visualizations later in the training process are less\n",
    "\t\t\t# interesting\n",
    "\t\t\telif epoch >= 10 and i % 100 == 0:\n",
    "\t\t\t\tp = [args[\"output\"], \"epoch_{}_step_{}.png\".format(\n",
    "\t\t\t\t\tstr(epoch + 1).zfill(4), str(i).zfill(5))]\n",
    "\n",
    "\t\t# check to see if we should visualize the output of the\n",
    "\t\t# generator model on our benchmark data\n",
    "\t\tif p is not None:\n",
    "\t\t\t# show loss information\n",
    "\t\t\tprint(\"[INFO] Step {}_{}: discriminator_loss={:.6f}, \"\n",
    "\t\t\t\t\"adversarial_loss={:.6f}\".format(epoch + 1, i,\n",
    "\t\t\t\t\tdiscLoss, ganLoss))\n",
    "\n",
    "\t\t\t# make predictions on the benchmark noise, scale it back\n",
    "\t\t\t# to the range [0, 255], and generate the montage\n",
    "\t\t\timages = gen.predict(benchmarkNoise)\n",
    "\t\t\timages = ((images * 127.5) + 127.5).astype(\"uint8\")\n",
    "\t\t\timages = np.repeat(images, 3, axis=-1)\n",
    "\t\t\tvis = build_montages(images, (28, 28), (16, 16))[0]\n",
    "\n",
    "\t\t\t# write the visualization to disk\n",
    "\t\t\tp = os.path.sep.join(p)\n",
    "\t\t\tcv2.imwrite(p, vis)"
   ]
  },
  {
   "cell_type": "markdown",
   "metadata": {
    "id": "WuptzEe3iMUX"
   },
   "source": [
    "### Visualizing our results"
   ]
  },
  {
   "cell_type": "code",
   "execution_count": 13,
   "metadata": {
    "colab": {
     "base_uri": "https://localhost:8080/",
     "height": 345
    },
    "id": "e4BrHJaGiLdC",
    "outputId": "7a3c2ac0-842a-4f8f-a7a5-bd3389de32e0"
   },
   "outputs": [
    {
     "data": {
      "image/png": "[encoded data removed]",
      "text/plain": [
       "<Figure size 432x288 with 1 Axes>"
      ]
     },
     "metadata": {
      "needs_background": "light"
     },
     "output_type": "display_data"
    }
   ],
   "source": [
    "# define path to our final epoch results\n",
    "filename = \"epoch_{}_output.png\".format(str(args[\"epochs\"]).zfill(4))\n",
    "resultPath = os.path.join(args[\"output\"], filename)\n",
    "\n",
    "# load the result image and display it\n",
    "image = cv2.imread(resultPath)\n",
    "plt_imshow(\"result\", image)"
   ]
  },
  {
   "cell_type": "markdown",
   "metadata": {},
   "source": [
    "# Hyperparameter Tuning in GAN\n",
    "\n",
    "* Batch size: Experiment with values of 8, 16, 32, 54, or 128 for the batch size.\n",
    "* The number of epochs: Experiment with 100 epochs and gradually increase it to 1,000-5,000.\n",
    "* Learning rate: This is the most important hyperparameter. Experiment with 0.1, 0.001, 0.0001, and other small learning rates.\n",
    "* Activation functions in different layers of the generator and the discriminator network: Experiment with sigmoid, tanh, ReLU, LeakyReLU, ELU, SeLU, and other activation functions.\n",
    "* The optimization algorithm: Experiment with Adam, SGD, Adadelta, RMSProp, and other optimizers available in the Keras framework.\n",
    "* Loss functions: Binary cross entropy is the loss function best suited for a 3D-GAN.\n",
    "\n"
   ]
  },
  {
   "cell_type": "markdown",
   "metadata": {
    "id": "JUhIbZsz5JoR"
   },
   "source": [
    "# Conclusion\n",
    "\n",
    "Using our DCGAN implementation, we trained both the generator and discriminator on the Fashion MNIST dataset, resulting in output images of fashion items that:\n",
    "\n",
    "1. Are not part of the training set and are complete synthetic\n",
    "2. Look nearly identical to and indistinguishable from any image in the Fashion MNIST dataset\n",
    "\n",
    "GANs are notoriously hard to train is due to the evolving loss landscape — with every step, our loss landscape changes slightly and is thus ever-evolving.\n"
   ]
  },
  {
   "cell_type": "markdown",
   "metadata": {
    "id": "QA1QOqab4vWv"
   },
   "source": [
    "# Citation\n",
    "\n",
    "https://arxiv.org/abs/1406.2661 <br/>\n",
    "https://towardsdatascience.com/understanding-generative-adversarial-networks-gans-cd6e4651a29 <br/>\n",
    "https://www.geeksforgeeks.org/generative-adversarial-network-gan/ <br/>\n",
    "https://naokishibuya.medium.com/up-sampling-with-transposed-convolution-9ae4f2df52d0<br/>\n"
   ]
  },
  {
   "cell_type": "markdown",
   "metadata": {
    "id": "2KiSc7FH4dXE"
   },
   "source": [
    "# License\n",
    "\n",
    "Copyright 2020 Rohan Subhash Yewale\n",
    "\n",
    "Permission is hereby granted, free of charge, to any person obtaining a copy of this software and associated documentation files (the \"Software\"), to deal in the Software without restriction, including without limitation the rights to use, copy, modify, merge, publish, distribute, sublicense, and/or sell copies of the Software, and to permit persons to whom the Software is furnished to do so, subject to the following conditions:\n",
    "\n",
    "The above copyright notice and this permission notice shall be included in all copies or substantial portions of the Software.\n",
    "\n",
    "THE SOFTWARE IS PROVIDED \"AS IS\", WITHOUT WARRANTY OF ANY KIND, EXPRESS OR IMPLIED, INCLUDING BUT NOT LIMITED TO THE WARRANTIES OF MERCHANTABILITY, FITNESS FOR A PARTICULAR PURPOSE AND NONINFRINGEMENT. IN NO EVENT SHALL THE AUTHORS OR COPYRIGHT HOLDERS BE LIABLE FOR ANY CLAIM, DAMAGES OR OTHER LIABILITY, WHETHER IN AN ACTION OF CONTRACT, TORT OR OTHERWISE, ARISING FROM, OUT OF OR IN CONNECTION WITH THE SOFTWARE OR THE USE OR OTHER DEALINGS IN THE SOFTWARE."
   ]
  }
 ],
 "metadata": {
  "accelerator": "GPU",
  "colab": {
   "collapsed_sections": [],
   "name": "Yewale_Rohan_Mini_Project_3.ipynb",
   "provenance": [],
   "toc_visible": true
  },
  "kernelspec": {
   "display_name": "Python 3",
   "language": "python",
   "name": "python3"
  },
  "language_info": {
   "codemirror_mode": {
    "name": "ipython",
    "version": 3
   },
   "file_extension": ".py",
   "mimetype": "text/x-python",
   "name": "python",
   "nbconvert_exporter": "python",
   "pygments_lexer": "ipython3",
   "version": "3.7.6"
  },
  "toc": {
   "base_numbering": 1,
   "nav_menu": {},
   "number_sections": true,
   "sideBar": true,
   "skip_h1_title": false,
   "title_cell": "Table of Contents",
   "title_sidebar": "Contents",
   "toc_cell": false,
   "toc_position": {},
   "toc_section_display": true,
   "toc_window_display": false
  }
 },
 "nbformat": 4,
 "nbformat_minor": 1
}
