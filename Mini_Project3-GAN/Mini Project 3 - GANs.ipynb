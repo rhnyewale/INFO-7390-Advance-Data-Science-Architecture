{
 "cells": [
  {
   "cell_type": "markdown",
   "metadata": {},
   "source": [
    "# GANs (Generative Adversarial Networks)\n",
    "\n",
    "## Abstract\n",
    "\n",
    "Our objective is to learn how to implement Generative Adversarial Networks(GANs) using Keras and TensorFlow. We will be implementing on Fashion MNIST dataset.\n",
    "\n",
    "**Objective**\n",
    "1. Discuss Generative Adversarial Networks\n",
    "2. Implement GAN architecture using Keras and Tensorflow\n",
    "3. Train Fashion MNIST dataset\n",
    "4. Generate fake/synthetic apparel images\n",
    "\n"
   ]
  },
  {
   "cell_type": "markdown",
   "metadata": {},
   "source": [
    "**Generative Adversarial Networks** can be used to generate synthetic (i.e., fake) images that are perceptually near identical to their ground-truth authentic originals.\n",
    "\n",
    "In order to generate synthetic images, we make use of two neural networks during training:\n",
    "\n",
    "1. A generator that accepts an input vector of randomly generated noise and produces an output “imitation” image that looks similar, if not identical, to the authentic image\n",
    "2. A discriminator or adversary that attempts to determine if a given image is an “authentic” or “fake”\n",
    "\n",
    "By training these networks at the same time, one giving feedback to the other, we can learn to generate synthetic images."
   ]
  },
  {
   "cell_type": "code",
   "execution_count": null,
   "metadata": {},
   "outputs": [],
   "source": []
  }
 ],
 "metadata": {
  "kernelspec": {
   "display_name": "Python 3",
   "language": "python",
   "name": "python3"
  },
  "language_info": {
   "codemirror_mode": {
    "name": "ipython",
    "version": 3
   },
   "file_extension": ".py",
   "mimetype": "text/x-python",
   "name": "python",
   "nbconvert_exporter": "python",
   "pygments_lexer": "ipython3",
   "version": "3.7.6"
  },
  "toc": {
   "base_numbering": 1,
   "nav_menu": {},
   "number_sections": true,
   "sideBar": true,
   "skip_h1_title": false,
   "title_cell": "Table of Contents",
   "title_sidebar": "Contents",
   "toc_cell": false,
   "toc_position": {},
   "toc_section_display": true,
   "toc_window_display": false
  }
 },
 "nbformat": 4,
 "nbformat_minor": 4
}
