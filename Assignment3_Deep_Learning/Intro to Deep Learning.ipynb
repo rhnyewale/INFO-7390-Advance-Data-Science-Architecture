{
 "cells": [
  {
   "cell_type": "markdown",
   "metadata": {},
   "source": [
    "# Deep Learning\n",
    "\n",
    "Neural networks(short for Artificial neural networks) model were inspired by the structure of neurons in our brain(biological neural networks).\n",
    "\n",
    "Each cell in a neural network is called a neuron and is connected to multiple neurons. Neurons in human (and mammalian) brains communicate by sending electrical signals between each other.\n",
    "\n",
    "<img src = \"Images/NN.jpg\">\n",
    "\n",
    "But these are the only similarities between the biological neural networks and artificial neural networks."
   ]
  },
  {
   "cell_type": "markdown",
   "metadata": {},
   "source": [
    "## Deep Neural Network\n",
    "\n",
    "A deep neural network is a specific type of neural network that excels at capturing nonlinear relationships in data. Deep neural networks have broken many benchmarks in audio and image classification. Previously, linear models were often used with nonlinear transformations that were discovered by hand through research.\n",
    "\n",
    "<Img src = \"Images/Non_linear.jpg\">\n",
    "\n",
    "Deep neural networks have some ability to discover how to structure the nonlinear transformations during the training process automatically and have grown to become a helpful tool for many problems.\n"
   ]
  },
  {
   "cell_type": "markdown",
   "metadata": {},
   "source": [
    "## Graphs\n",
    "2.Neural networks are usually represented as graphs. A graph is a data structure that consists of nodes (represented as circles) that are connected by edges (represented as lines).\n",
    "\n",
    "<Img src = \"Images/Graph.jpg\">\n",
    "\n",
    "Graphs are commonly used to represent how components of a system are related or linked. For example, the Facebook Social Graph describes how all of the users on Facebook are connected to each other (and this graph is changing constantly as friends are added and removed). Google Maps uses graphs to represent locations in the physical world as nodes and roads as edges.\n",
    "\n",
    "<Img src = \"Images/Graph_FB_Google.jpg\">\n",
    "\n",
    "Graphs are a highly flexible data structure; you can even represent a list of values as a graph. Graphs are often categorized by their properties, which act as constraints\n",
    "\n",
    "\n",
    "<Img src = \"Images/Graph_Type.jpg\">\n"
   ]
  },
  {
   "cell_type": "markdown",
   "metadata": {},
   "source": [
    "3.\n",
    "Graphs provide a mental model for thinking and reasoning about a specific class of models -- those that consist of a series of functions that are executed in a specific order. In the context of neural networks, graphs let us compactly express a pipeline of functions that we want to be executed in succession.\n",
    "\n",
    "This pipeline has 2 stages of functions that happen in sequence:\n",
    "\n",
    "* In the first stage L1 is computed L1 = X * a1\n",
    "* In the second stage L2 is computed L2 = L1 * a2\n",
    "\n",
    "The second stage can't happen without the first stage, because \n",
    "**L1** is an input to the second stage. The heart of neural network models is the successive computation of functions. This is known as a **computational graph**. A computational graph uses nodes to describe variables and edges to describe how variables are combined.\n",
    "\n",
    "Here's a simple example:\n",
    "\n",
    "y = a1x1 + a2x2\n",
    "\n",
    "<Img src = \"Images/x1a1_x2a2_y.jpg\">\n",
    "\n",
    "The computational graph is a powerful representation, as it allows us to compactly represent models with many layers of nesting. In fact, a decision tree is really a specific type of computational graph. There's no compact way to express a decision tree model using just equations and standard algebraic notation\n",
    "\n",
    "<Img src = \"Images/DT_Grp.jpg\">\n"
   ]
  },
  {
   "cell_type": "code",
   "execution_count": null,
   "metadata": {},
   "outputs": [],
   "source": []
  },
  {
   "cell_type": "markdown",
   "metadata": {},
   "source": [
    "Linear regression is represented as:\n",
    "\n",
    "y = a0 + a1x1 + a2x2 + .... + anxn\n",
    "\n",
    "Where:\n",
    "* a0 represents the intercept(also know as the bias)\n",
    "* a1 to an represent the trained model weights\n",
    "* x1 to xn represent the features\n",
    "* y represents the predicted value\n",
    "\n",
    "The first step is to rewrite this model using linear algebra notation, as a product of 2 vectors:\n",
    "\n",
    "Xa^T= y\n",
    "\n",
    "<Img src = \"Images/vector_prod.jpg\">\n",
    "\n",
    "**Neural Network Representation**\n",
    "\n",
    "In the neural network representation of this model:\n",
    "\n",
    "* each feature column in a data set is represented as an **input neuron\n",
    "* each weight value is represented as an arrow from the feature column it multiples to the **output neuron\n",
    "\n",
    "The neurons and arrows act as a visual metaphor for the weighted sum, which is how the feature columns and weights are combined.\n",
    "\n",
    "<Img src = \"Images/neuron.jpg\">\n",
    "\n",
    "Inspired by biological neural networks, an **activation function** determines if the neuron fires or not. In a neural network model, the activation function transforms the weighted sum of the input values. For this network, the activation function is the identity function. The identity function returns the same value that was passed in:\n",
    "\n",
    "f(x) = x\n",
    "\n",
    "<Img src = \"Images/AF.jpg\">\n",
    "\n",
    "\n",
    "While the activation function isn't interesting for a network that performs linear regression, it's useful for logistic regression and more complex networks. Here's a comparison of both representations of the same linear regression model:\n",
    "\n",
    "\n",
    "<Img src = \"Images/LinearAlg_NN2.jpg\">\n"
   ]
  },
  {
   "cell_type": "markdown",
   "metadata": {},
   "source": [
    "6.\n",
    "Because the inputs from one layer of neurons feed to the next layer of the single, output neuron, this is known as a **feedforward network**. In the language of graphs, a feedforward network is a **directed, acyclic graph.**\n",
    "\n",
    "**Fitting A Network**\n",
    "In the Linear Regression for Machine Learning course, we explored two different approaches to training a linear regression model: gradient descent and ordinary least squares. Gradient descent is the most common technique for fitting neural network models.\n",
    "\n"
   ]
  },
  {
   "cell_type": "code",
   "execution_count": 11,
   "metadata": {},
   "outputs": [],
   "source": [
    "import pandas as pd\n",
    "from sklearn.datasets import make_regression\n",
    "import numpy as np\n",
    "data = make_regression(n_samples=100, n_features=3, random_state=1)\n",
    "features = pd.DataFrame(data[0])\n",
    "labels = pd.Series(data[1])"
   ]
  },
  {
   "cell_type": "code",
   "execution_count": 12,
   "metadata": {},
   "outputs": [],
   "source": [
    "features['bias'] = 1"
   ]
  },
  {
   "cell_type": "code",
   "execution_count": 13,
   "metadata": {},
   "outputs": [],
   "source": [
    "from sklearn.linear_model import SGDRegressor"
   ]
  },
  {
   "cell_type": "code",
   "execution_count": 14,
   "metadata": {},
   "outputs": [],
   "source": [
    "def train(features,labels):\n",
    "    lr = SGDRegressor()\n",
    "    lr.fit(features, labels)\n",
    "    weights = lr.coef_\n",
    "    return weights"
   ]
  },
  {
   "cell_type": "code",
   "execution_count": 15,
   "metadata": {},
   "outputs": [],
   "source": [
    "def feedforward(features,weights):\n",
    "    predictions = np.dot(features,weights.T)\n",
    "    return predictions\n"
   ]
  },
  {
   "cell_type": "code",
   "execution_count": 16,
   "metadata": {},
   "outputs": [],
   "source": [
    "train_weights = train(features, labels)\n",
    "linear_predictions = feedforward(features, train_weights)"
   ]
  },
  {
   "cell_type": "markdown",
   "metadata": {},
   "source": []
  },
  {
   "cell_type": "markdown",
   "metadata": {},
   "source": [
    "# NonLinear Activation Functions\n",
    "\n",
    "The three most commonly used activation functions in neural networks are:\n",
    "\n",
    "* the sigmoid function\n",
    "* the ReLU function\n",
    "* the tanh function"
   ]
  },
  {
   "cell_type": "markdown",
   "metadata": {},
   "source": [
    "## ReLU activation function\n",
    "\n",
    "The **ReLU** activation function, which is a commonly used activation function in neural networks for solving regression problems. ReLU stands for **rectified linear unit** and is defined as follows:\n",
    "\n",
    "**ReLU(x) = max(0,x)**\n",
    "\n",
    "The max(0,x) function call returns the maximum value between 0 and \n",
    "x.\n",
    "This means that:\n",
    "\n",
    "* when x is less than 0 the value 0 is returned\n",
    "* when x is greater than 0 the value x is returned\n",
    "\n",
    "The ReLU function returns the positive component of the input value. Let's visualize the expressivity of a model that performs a linear combination of the features and weights followed by the ReLU transformation:\n",
    "\n",
    "\n",
    "<img src = \"GIF/ReLU.gif\">\n",
    "\n"
   ]
  },
  {
   "cell_type": "code",
   "execution_count": 7,
   "metadata": {},
   "outputs": [
    {
     "name": "stdout",
     "output_type": "stream",
     "text": [
      "x= [-2.         -1.78947368 -1.57894737 -1.36842105 -1.15789474 -0.94736842\n",
      " -0.73684211 -0.52631579 -0.31578947 -0.10526316  0.10526316  0.31578947\n",
      "  0.52631579  0.73684211  0.94736842  1.15789474  1.36842105  1.57894737\n",
      "  1.78947368  2.        ]\n",
      "relu_y= [0.         0.         0.         0.         0.         0.\n",
      " 0.         0.         0.         0.         0.10526316 0.31578947\n",
      " 0.52631579 0.73684211 0.94736842 1.15789474 1.36842105 1.57894737\n",
      " 1.78947368 2.        ]\n"
     ]
    },
    {
     "data": {
      "text/plain": [
       "[<matplotlib.lines.Line2D at 0x29965dee948>]"
      ]
     },
     "execution_count": 7,
     "metadata": {},
     "output_type": "execute_result"
    },
    {
     "data": {
      "image/png": "[encoded data removed]",
      "text/plain": [
       "<Figure size 432x288 with 1 Axes>"
      ]
     },
     "metadata": {
      "needs_background": "light"
     },
     "output_type": "display_data"
    }
   ],
   "source": [
    "import matplotlib.pyplot as plt\n",
    "import numpy as np\n",
    "\n",
    "x = np.linspace(-2, 2, 20)\n",
    "\n",
    "def relu(values):\n",
    "    return np.maximum(values,0)\n",
    "\n",
    "relu_y = relu(x)\n",
    "\n",
    "print(\"x=\",x)\n",
    "print(\"relu_y=\",relu_y)\n",
    "\n",
    "plt.plot(x,relu_y)"
   ]
  },
  {
   "cell_type": "markdown",
   "metadata": {},
   "source": [
    "## tanh Function\n",
    "\n",
    "<img src = \"images/tan.jpg\">\n",
    "\n",
    "Linking the unit circle with the Cartesian coordinate system tan is just the ratio between the **y value (opposite)** and the **x value (adjacent)** for a point on the unit circle corresponding to the angle.\n",
    "\n",
    "### Plotting Tan\n",
    "\n",
    "To plot the tangent function, we need to use radians on the x-axis instead of degrees. To describe a full trip around the circle, radians range from 0 to 2π while degrees range from 0 to 360.\n"
   ]
  },
  {
   "cell_type": "code",
   "execution_count": 8,
   "metadata": {},
   "outputs": [
    {
     "data": {
      "text/plain": [
       "[<matplotlib.lines.Line2D at 0x29965ebb308>]"
      ]
     },
     "execution_count": 8,
     "metadata": {},
     "output_type": "execute_result"
    },
    {
     "data": {
      "image/png": "[encoded data removed]",
      "text/plain": [
       "<Figure size 432x288 with 1 Axes>"
      ]
     },
     "metadata": {
      "needs_background": "light"
     },
     "output_type": "display_data"
    }
   ],
   "source": [
    "x = np.linspace(-2*np.pi, 2*np.pi, 100)\n",
    "tan_y = np.tan(x)\n",
    "plt.plot(x, tan_y)"
   ]
  },
  {
   "cell_type": "markdown",
   "metadata": {},
   "source": [
    "The periodic sharp spikes that you see in the plot are known as **vertical asymptotes**. At those points, the value isn't defined but the limit approaches either negative or positive infinity (depending on which direction you're approaching the x value from).\n",
    "\n",
    "The key takeaway from the plot is how the tangent function is a repeating, **periodic function**. A periodic function is one that returns the same value at regular intervals.\n",
    "\n",
    "The **tangent function** repeats itself every π, which is known as the **period**. The tangent function isn't known to be used as an activation function in neural networks (or any machine learning model really) because the periodic nature isn't a pattern that's found in real datasets.\n",
    "\n",
    "While there have been some experiments with periodic functions as the activation function for neural networks, the general conclusion has been that **period functions like tangent don't offer any unique benefits for modeling**.\n",
    "\n",
    "Generally speaking, the activation functions that are used in neural networks are increasing functions. An increasing function **f** is a function where **f(x)** always stays the **same or increases** as **x increases**.\n"
   ]
  },
  {
   "cell_type": "markdown",
   "metadata": {},
   "source": [
    "While the tangent function describes the ratio of the y and x values on the unit circle, the **hyperbolic tangent function** describes the **ratio of y and x values on the unit hyperbola**.\n",
    "\n",
    "<img src=\"Images/Hyper_Tan.jpg\">\n",
    "\n",
    "Use the **numpy.tanh()** function to compute the hyperbolic tangent of the values in x\n"
   ]
  },
  {
   "cell_type": "code",
   "execution_count": 9,
   "metadata": {},
   "outputs": [
    {
     "data": {
      "text/plain": [
       "[<matplotlib.lines.Line2D at 0x29966d08f88>]"
      ]
     },
     "execution_count": 9,
     "metadata": {},
     "output_type": "execute_result"
    },
    {
     "data": {
      "image/png": "[encoded data removed]",
      "text/plain": [
       "<Figure size 432x288 with 1 Axes>"
      ]
     },
     "metadata": {
      "needs_background": "light"
     },
     "output_type": "display_data"
    }
   ],
   "source": [
    "x = np.linspace(-40, 40, 100)\n",
    "tanh_y = np.tanh(x)\n",
    "plt.plot(x, tanh_y)"
   ]
  },
  {
   "cell_type": "markdown",
   "metadata": {},
   "source": [
    "You'll notice that like the sigmoid function, the **tanh function** has **horizontal asymptotes** as x approaches negative or positive infinity. In addition, the tanh function also **constrains the range (y) to between −1 and 1**.\n",
    "\n",
    "Because of this property, both the **sigmoid** and the **tanh functions** are commonly used in neural networks for **classification tasks**.\n",
    "\n",
    "**ReLU function**, on the other hand, is known to be more effective in **regression tasks**\n",
    "\n"
   ]
  },
  {
   "cell_type": "markdown",
   "metadata": {},
   "source": [
    "# Hidden Layers\n",
    "\n",
    "In the above cells we worked with **single layer neural networks**. \n",
    "These networks had a single layer of neurons. To make a prediction, a single layer of neurons in these networks directly fed their results into the output neuron(s).\n",
    "\n",
    "We'll explore how **multi-layer networks** (also known as **deep neural networks**) are able to **better capture nonlinearity** in the data.\n",
    "\n",
    "In a deep neural network, the first layer of input neurons feeds into a second, intermediate layer of neurons.\n",
    "\n",
    "<img src=\"Images/Hidden_Layers.jpg\">\n",
    "\n",
    "The intermediate layers are known as **hidden layers**, because they aren't directly represented in the input data or the output predictions. Instead, we can think of each hidden layer as intermediate features that are learned during the training process."
   ]
  },
  {
   "cell_type": "markdown",
   "metadata": {},
   "source": [
    "## Decision Tree Vs Deep Neural Network\n",
    "\n",
    "Neural Networks are actually very similar to how decision trees are structured. The branches and splits represent some intermediate features that are useful for making predictions and are analogous to the hidden layers in a neural network.\n",
    "\n",
    "<img src=\"Images/DT_NN.jpg\">\n",
    "\n",
    "Each of these hidden layers has its own set of weights and biases, which are discovered during the training process. In decision tree models, the intermediate features in the model represented something more concrete we can understand (feature ranges).\n",
    "\n",
    "**Decision tree models** are referred to as white box models because they can be observed and understood but not easily altered. After we train a decision tree model, we can visualize the tree, interpret it, and have new ideas for tweaking the model.\n",
    "\n",
    "**Neural networks**, on the other hand, are much closer to being a black box. In a black box model, we can understand the inputs and the outputs but the intermediate features are actually difficult to interpret and understand. Even harder and perhaps more importantly, it's difficult to understand how to tweak a neural network based on these intermediate features.\n",
    "\n",
    "We'll learn how adding more layers to a network and adding more neurons in the hidden layers can improve the model's ability to learn more complex relationships"
   ]
  },
  {
   "cell_type": "markdown",
   "metadata": {},
   "source": [
    "To generate **data with nonlinearity in the features** (both between the features and between the features and the target column), we can use the **make_moons()** function from scikit-learn:"
   ]
  },
  {
   "cell_type": "code",
   "execution_count": 10,
   "metadata": {},
   "outputs": [],
   "source": [
    "from sklearn.datasets import make_moons\n",
    "data = make_moons()"
   ]
  },
  {
   "cell_type": "markdown",
   "metadata": {},
   "source": [
    "By default, make_moons() will generate 100 rows of data with 2 features. Here's a plot that visualizes one feature against the other"
   ]
  },
  {
   "cell_type": "code",
   "execution_count": null,
   "metadata": {},
   "outputs": [],
   "source": []
  }
 ],
 "metadata": {
  "kernelspec": {
   "display_name": "Python 3",
   "language": "python",
   "name": "python3"
  },
  "language_info": {
   "codemirror_mode": {
    "name": "ipython",
    "version": 3
   },
   "file_extension": ".py",
   "mimetype": "text/x-python",
   "name": "python",
   "nbconvert_exporter": "python",
   "pygments_lexer": "ipython3",
   "version": "3.7.6"
  },
  "toc": {
   "base_numbering": 1,
   "nav_menu": {},
   "number_sections": true,
   "sideBar": true,
   "skip_h1_title": false,
   "title_cell": "Table of Contents",
   "title_sidebar": "Contents",
   "toc_cell": false,
   "toc_position": {},
   "toc_section_display": true,
   "toc_window_display": false
  }
 },
 "nbformat": 4,
 "nbformat_minor": 4
}
